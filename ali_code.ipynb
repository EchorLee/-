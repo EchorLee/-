{
 "cells": [
  {
   "cell_type": "markdown",
   "metadata": {},
   "source": [
    "### 蚂蚁金服笔试code\n",
    "Yike Li\n",
    "2/2019"
   ]
  },
  {
   "cell_type": "markdown",
   "metadata": {},
   "source": [
    "### 1. Process Data"
   ]
  },
  {
   "cell_type": "code",
   "execution_count": 363,
   "metadata": {},
   "outputs": [],
   "source": [
    "import numpy as np\n",
    "import pandas as pd\n",
    "import matplotlib.pyplot as plt\n",
    "import imblearn\n",
    "import time\n",
    "import sklearn\n",
    "from sklearn import metrics"
   ]
  },
  {
   "cell_type": "code",
   "execution_count": 364,
   "metadata": {},
   "outputs": [
    {
     "data": {
      "text/html": [
       "<div>\n",
       "<style scoped>\n",
       "    .dataframe tbody tr th:only-of-type {\n",
       "        vertical-align: middle;\n",
       "    }\n",
       "\n",
       "    .dataframe tbody tr th {\n",
       "        vertical-align: top;\n",
       "    }\n",
       "\n",
       "    .dataframe thead th {\n",
       "        text-align: right;\n",
       "    }\n",
       "</style>\n",
       "<table border=\"1\" class=\"dataframe\">\n",
       "  <thead>\n",
       "    <tr style=\"text-align: right;\">\n",
       "      <th></th>\n",
       "      <th>isbuyer</th>\n",
       "      <th>buy_freq</th>\n",
       "      <th>visit_freq</th>\n",
       "      <th>buy_interval</th>\n",
       "      <th>sv_interval</th>\n",
       "      <th>expected_time_buy</th>\n",
       "      <th>expected_time_visit</th>\n",
       "      <th>last_buy</th>\n",
       "      <th>last_visit</th>\n",
       "      <th>multiple_buy</th>\n",
       "      <th>multiple_visit</th>\n",
       "      <th>uniq_urls</th>\n",
       "      <th>num_checkins</th>\n",
       "      <th>y_buy</th>\n",
       "    </tr>\n",
       "  </thead>\n",
       "  <tbody>\n",
       "    <tr>\n",
       "      <th>1</th>\n",
       "      <td>0</td>\n",
       "      <td>NaN</td>\n",
       "      <td>1</td>\n",
       "      <td>0.0</td>\n",
       "      <td>0.00000</td>\n",
       "      <td>0.0</td>\n",
       "      <td>0.00000</td>\n",
       "      <td>106</td>\n",
       "      <td>106</td>\n",
       "      <td>0</td>\n",
       "      <td>0</td>\n",
       "      <td>169</td>\n",
       "      <td>2130</td>\n",
       "      <td>0</td>\n",
       "    </tr>\n",
       "    <tr>\n",
       "      <th>2</th>\n",
       "      <td>0</td>\n",
       "      <td>NaN</td>\n",
       "      <td>1</td>\n",
       "      <td>0.0</td>\n",
       "      <td>0.00000</td>\n",
       "      <td>0.0</td>\n",
       "      <td>0.00000</td>\n",
       "      <td>6</td>\n",
       "      <td>6</td>\n",
       "      <td>0</td>\n",
       "      <td>0</td>\n",
       "      <td>150</td>\n",
       "      <td>539</td>\n",
       "      <td>0</td>\n",
       "    </tr>\n",
       "    <tr>\n",
       "      <th>3</th>\n",
       "      <td>0</td>\n",
       "      <td>NaN</td>\n",
       "      <td>2</td>\n",
       "      <td>0.0</td>\n",
       "      <td>0.50000</td>\n",
       "      <td>0.0</td>\n",
       "      <td>-101.14930</td>\n",
       "      <td>101</td>\n",
       "      <td>101</td>\n",
       "      <td>0</td>\n",
       "      <td>1</td>\n",
       "      <td>103</td>\n",
       "      <td>362</td>\n",
       "      <td>0</td>\n",
       "    </tr>\n",
       "    <tr>\n",
       "      <th>4</th>\n",
       "      <td>0</td>\n",
       "      <td>NaN</td>\n",
       "      <td>1</td>\n",
       "      <td>0.0</td>\n",
       "      <td>0.00000</td>\n",
       "      <td>0.0</td>\n",
       "      <td>0.00000</td>\n",
       "      <td>42</td>\n",
       "      <td>42</td>\n",
       "      <td>0</td>\n",
       "      <td>0</td>\n",
       "      <td>17</td>\n",
       "      <td>35</td>\n",
       "      <td>0</td>\n",
       "    </tr>\n",
       "    <tr>\n",
       "      <th>5</th>\n",
       "      <td>0</td>\n",
       "      <td>NaN</td>\n",
       "      <td>3</td>\n",
       "      <td>0.0</td>\n",
       "      <td>45.47917</td>\n",
       "      <td>0.0</td>\n",
       "      <td>-34.14473</td>\n",
       "      <td>64</td>\n",
       "      <td>64</td>\n",
       "      <td>0</td>\n",
       "      <td>1</td>\n",
       "      <td>100</td>\n",
       "      <td>298</td>\n",
       "      <td>0</td>\n",
       "    </tr>\n",
       "  </tbody>\n",
       "</table>\n",
       "</div>"
      ],
      "text/plain": [
       "   isbuyer  buy_freq  visit_freq  buy_interval  sv_interval  \\\n",
       "1        0       NaN           1           0.0      0.00000   \n",
       "2        0       NaN           1           0.0      0.00000   \n",
       "3        0       NaN           2           0.0      0.50000   \n",
       "4        0       NaN           1           0.0      0.00000   \n",
       "5        0       NaN           3           0.0     45.47917   \n",
       "\n",
       "   expected_time_buy  expected_time_visit  last_buy  last_visit  multiple_buy  \\\n",
       "1                0.0              0.00000       106         106             0   \n",
       "2                0.0              0.00000         6           6             0   \n",
       "3                0.0           -101.14930       101         101             0   \n",
       "4                0.0              0.00000        42          42             0   \n",
       "5                0.0            -34.14473        64          64             0   \n",
       "\n",
       "   multiple_visit  uniq_urls  num_checkins  y_buy  \n",
       "1               0        169          2130      0  \n",
       "2               0        150           539      0  \n",
       "3               1        103           362      0  \n",
       "4               0         17            35      0  \n",
       "5               1        100           298      0  "
      ]
     },
     "execution_count": 364,
     "metadata": {},
     "output_type": "execute_result"
    }
   ],
   "source": [
    "# Read data and drop the first column\n",
    "data=pd.read_csv('ads_train.csv',index_col=0)\n",
    "data_pred=pd.read_csv('ads_test.csv',index_col=0)\n",
    "data.head()"
   ]
  },
  {
   "cell_type": "code",
   "execution_count": 365,
   "metadata": {},
   "outputs": [
    {
     "data": {
      "text/plain": [
       "(38209, 14)"
      ]
     },
     "execution_count": 365,
     "metadata": {},
     "output_type": "execute_result"
    }
   ],
   "source": [
    "data.shape"
   ]
  },
  {
   "cell_type": "code",
   "execution_count": 366,
   "metadata": {},
   "outputs": [
    {
     "data": {
      "text/plain": [
       "isbuyer                    0\n",
       "buy_freq               36589\n",
       "visit_freq                 0\n",
       "buy_interval               0\n",
       "sv_interval                0\n",
       "expected_time_buy          0\n",
       "expected_time_visit        0\n",
       "last_buy                   0\n",
       "last_visit                 0\n",
       "multiple_buy               0\n",
       "multiple_visit             0\n",
       "uniq_urls                  0\n",
       "num_checkins               0\n",
       "y_buy                      0\n",
       "dtype: int64"
      ]
     },
     "execution_count": 366,
     "metadata": {},
     "output_type": "execute_result"
    }
   ],
   "source": [
    "#check the data-missing value\n",
    "data.isnull().sum()"
   ]
  },
  {
   "cell_type": "code",
   "execution_count": 367,
   "metadata": {},
   "outputs": [
    {
     "data": {
      "text/plain": [
       "isbuyer                    0\n",
       "buy_freq               15668\n",
       "visit_freq                 0\n",
       "buy_interval               0\n",
       "sv_interval                0\n",
       "expected_time_buy          0\n",
       "expected_time_visit        0\n",
       "last_buy                   0\n",
       "last_visit                 0\n",
       "multiple_buy               0\n",
       "multiple_visit             0\n",
       "uniq_urls                  0\n",
       "num_checkins               0\n",
       "dtype: int64"
      ]
     },
     "execution_count": 367,
     "metadata": {},
     "output_type": "execute_result"
    }
   ],
   "source": [
    "#check the predict data-missing value\n",
    "data_pred.isnull().sum()"
   ]
  },
  {
   "cell_type": "code",
   "execution_count": 368,
   "metadata": {},
   "outputs": [],
   "source": [
    "#based on understanding of the data, the NAN value can be interpreted to 0\n",
    "data['buy_freq'].fillna(value='0',inplace=True)\n",
    "data_pred['buy_freq'].fillna(value='0',inplace=True)"
   ]
  },
  {
   "cell_type": "code",
   "execution_count": 369,
   "metadata": {
    "scrolled": true
   },
   "outputs": [
    {
     "data": {
      "text/plain": [
       "isbuyer                0\n",
       "buy_freq               0\n",
       "visit_freq             0\n",
       "buy_interval           0\n",
       "sv_interval            0\n",
       "expected_time_buy      0\n",
       "expected_time_visit    0\n",
       "last_buy               0\n",
       "last_visit             0\n",
       "multiple_buy           0\n",
       "multiple_visit         0\n",
       "uniq_urls              0\n",
       "num_checkins           0\n",
       "y_buy                  0\n",
       "dtype: int64"
      ]
     },
     "execution_count": 369,
     "metadata": {},
     "output_type": "execute_result"
    }
   ],
   "source": [
    "#check the data again\n",
    "data.isnull().sum()"
   ]
  },
  {
   "cell_type": "code",
   "execution_count": 370,
   "metadata": {},
   "outputs": [
    {
     "data": {
      "text/plain": [
       "isbuyer                0\n",
       "buy_freq               0\n",
       "visit_freq             0\n",
       "buy_interval           0\n",
       "sv_interval            0\n",
       "expected_time_buy      0\n",
       "expected_time_visit    0\n",
       "last_buy               0\n",
       "last_visit             0\n",
       "multiple_buy           0\n",
       "multiple_visit         0\n",
       "uniq_urls              0\n",
       "num_checkins           0\n",
       "dtype: int64"
      ]
     },
     "execution_count": 370,
     "metadata": {},
     "output_type": "execute_result"
    }
   ],
   "source": [
    "#check the data again\n",
    "data_pred.isnull().sum()"
   ]
  },
  {
   "cell_type": "code",
   "execution_count": 371,
   "metadata": {},
   "outputs": [
    {
     "data": {
      "text/plain": [
       "isbuyer                  int64\n",
       "buy_freq                object\n",
       "visit_freq               int64\n",
       "buy_interval           float64\n",
       "sv_interval            float64\n",
       "expected_time_buy      float64\n",
       "expected_time_visit    float64\n",
       "last_buy                 int64\n",
       "last_visit               int64\n",
       "multiple_buy             int64\n",
       "multiple_visit           int64\n",
       "uniq_urls                int64\n",
       "num_checkins             int64\n",
       "y_buy                    int64\n",
       "dtype: object"
      ]
     },
     "execution_count": 371,
     "metadata": {},
     "output_type": "execute_result"
    }
   ],
   "source": [
    "#check the data type\n",
    "data.dtypes"
   ]
  },
  {
   "cell_type": "code",
   "execution_count": 372,
   "metadata": {},
   "outputs": [],
   "source": [
    "#change the buy_freq type'object' to 'int'\n",
    "data.buy_freq = data.buy_freq.astype(int)\n",
    "data_pred.buy_freq = data_pred.buy_freq.astype(int)"
   ]
  },
  {
   "cell_type": "code",
   "execution_count": 373,
   "metadata": {},
   "outputs": [
    {
     "data": {
      "text/plain": [
       "isbuyer                  int64\n",
       "buy_freq                 int32\n",
       "visit_freq               int64\n",
       "buy_interval           float64\n",
       "sv_interval            float64\n",
       "expected_time_buy      float64\n",
       "expected_time_visit    float64\n",
       "last_buy                 int64\n",
       "last_visit               int64\n",
       "multiple_buy             int64\n",
       "multiple_visit           int64\n",
       "uniq_urls                int64\n",
       "num_checkins             int64\n",
       "y_buy                    int64\n",
       "dtype: object"
      ]
     },
     "execution_count": 373,
     "metadata": {},
     "output_type": "execute_result"
    }
   ],
   "source": [
    "#check the data type again\n",
    "data.dtypes"
   ]
  },
  {
   "cell_type": "code",
   "execution_count": 374,
   "metadata": {},
   "outputs": [],
   "source": [
    "# scale the data for further modeling\n",
    "from sklearn.preprocessing import StandardScaler\n",
    "\n",
    "scaler = StandardScaler()\n",
    "data_scale = scaler.fit_transform(data.iloc[:,0:13])\n",
    "data_pred_scale = scaler.transform(data_pred)"
   ]
  },
  {
   "cell_type": "code",
   "execution_count": 375,
   "metadata": {},
   "outputs": [],
   "source": [
    "# split data into training and testing sets\n",
    "from sklearn.model_selection import train_test_split\n",
    "data_train, data_test, y_train, y_test = train_test_split(data_scale, data.y_buy, random_state=1,test_size=0.1)"
   ]
  },
  {
   "cell_type": "code",
   "execution_count": 376,
   "metadata": {},
   "outputs": [
    {
     "name": "stdout",
     "output_type": "stream",
     "text": [
      "Training set has 34388 samples.\n",
      "Testing set has 3821 samples.\n"
     ]
    }
   ],
   "source": [
    "# Show the results of the split\n",
    "print('Training set has',data_train.shape[0],'samples.')\n",
    "print('Testing set has',data_test.shape[0],'samples.')"
   ]
  },
  {
   "cell_type": "code",
   "execution_count": 377,
   "metadata": {
    "scrolled": true
   },
   "outputs": [
    {
     "data": {
      "text/plain": [
       "0    34234\n",
       "1      154\n",
       "Name: y_buy, dtype: int64"
      ]
     },
     "execution_count": 377,
     "metadata": {},
     "output_type": "execute_result"
    },
    {
     "data": {
      "image/png": "[encoded data removed]",
      "text/plain": [
       "<Figure size 432x288 with 1 Axes>"
      ]
     },
     "metadata": {
      "needs_background": "light"
     },
     "output_type": "display_data"
    }
   ],
   "source": [
    "#check skewed classes in train set\n",
    "pd.value_counts(y_train).plot.bar()\n",
    "plt.title('Buy class histogram')\n",
    "plt.xlabel('y_buy')\n",
    "plt.ylabel('Frequency')\n",
    "y_train.value_counts()"
   ]
  },
  {
   "cell_type": "code",
   "execution_count": 378,
   "metadata": {},
   "outputs": [
    {
     "data": {
      "text/plain": [
       "0    3803\n",
       "1      18\n",
       "Name: y_buy, dtype: int64"
      ]
     },
     "execution_count": 378,
     "metadata": {},
     "output_type": "execute_result"
    },
    {
     "data": {
      "image/png": "[encoded data removed]",
      "text/plain": [
       "<Figure size 432x288 with 1 Axes>"
      ]
     },
     "metadata": {
      "needs_background": "light"
     },
     "output_type": "display_data"
    }
   ],
   "source": [
    "#check skewed classes in test set\n",
    "pd.value_counts(y_test).plot.bar()\n",
    "plt.title('Buy class histogram')\n",
    "plt.xlabel('y_buy')\n",
    "plt.ylabel('Frequency')\n",
    "y_test.value_counts()"
   ]
  },
  {
   "cell_type": "markdown",
   "metadata": {},
   "source": [
    "# bagging try\n",
    "from imblearn.under_sampling import RandomUnderSampler\n",
    "from sklearn.preprocessing import StandardScaler\n",
    "from sklearn.linear_model import LogisticRegression\n",
    "from collections import Counter\n",
    "from sklearn.ensemble import RandomForestClassifier\n",
    "\n",
    "\n",
    "rus = RandomUnderSampler(replacement=True)\n",
    "n_bags = 1001\n",
    "#clf = LogisticRegression(random_state=42, solver='newton-cg')\n",
    "clf = RandomForestClassifier(n_estimators=200)\n",
    "scaler = StandardScaler()\n",
    "\n",
    "pred_bag = []\n",
    "for i in range(n_bags):\n",
    "    data_train_bag,y_train_bag = rus.fit_resample(data_train,y_train)\n",
    "    \n",
    "    data_scale_bag = scaler.fit_transform(data_train_bag)\n",
    "    data_test_scale = scaler.transform(data_test)\n",
    "    data_pred_scale = scaler.transform(data_pred)\n",
    "    \n",
    "    clf.fit(data_scale_bag, y_train_bag)\n",
    "    pred_bag.append(clf.predict(data_test_scale))\n",
    "\n",
    "pred_bag = np.array(pred_bag)\n",
    "y_pred = []\n",
    "for j in range(pred_bag.shape[1]):\n",
    "    y_pred.append((Counter(pred_bag[:,j]).most_common())[0][0])\n",
    "y_pred = np.array(y_pred)    \n",
    "    "
   ]
  },
  {
   "cell_type": "code",
   "execution_count": 379,
   "metadata": {},
   "outputs": [],
   "source": [
    "# downsampling to minimize imbalance\n",
    "from imblearn.under_sampling import RandomUnderSampler\n",
    "rus = RandomUnderSampler(ratio={0: 20000, 1: 154},random_state=0, replacement=True)\n",
    "data_res,y_res = rus.fit_sample(data_train,y_train)\n"
   ]
  },
  {
   "cell_type": "code",
   "execution_count": 380,
   "metadata": {},
   "outputs": [
    {
     "data": {
      "text/plain": [
       "(20154, 13)"
      ]
     },
     "execution_count": 380,
     "metadata": {},
     "output_type": "execute_result"
    }
   ],
   "source": [
    "data_res.shape"
   ]
  },
  {
   "cell_type": "code",
   "execution_count": 381,
   "metadata": {},
   "outputs": [
    {
     "data": {
      "text/plain": [
       "Text(0, 0.5, 'Frequency')"
      ]
     },
     "execution_count": 381,
     "metadata": {},
     "output_type": "execute_result"
    },
    {
     "data": {
      "image/png": "[encoded data removed]",
      "text/plain": [
       "<Figure size 432x288 with 1 Axes>"
      ]
     },
     "metadata": {
      "needs_background": "light"
     },
     "output_type": "display_data"
    }
   ],
   "source": [
    "#check skewed classes\n",
    "pd.value_counts(y_res).plot.bar()\n",
    "plt.title('Buy class histogram')\n",
    "plt.xlabel('y_buy')\n",
    "plt.ylabel('Frequency')"
   ]
  },
  {
   "cell_type": "code",
   "execution_count": 382,
   "metadata": {},
   "outputs": [],
   "source": [
    "#resample \n",
    "from imblearn.over_sampling import SMOTE\n",
    "sm = SMOTE(random_state=0)\n",
    "data_res,y_res = sm.fit_sample(data_res,y_res)"
   ]
  },
  {
   "cell_type": "code",
   "execution_count": 383,
   "metadata": {},
   "outputs": [
    {
     "data": {
      "text/plain": [
       "(40000, 13)"
      ]
     },
     "execution_count": 383,
     "metadata": {},
     "output_type": "execute_result"
    }
   ],
   "source": [
    "data_res.shape"
   ]
  },
  {
   "cell_type": "code",
   "execution_count": 384,
   "metadata": {},
   "outputs": [
    {
     "data": {
      "text/plain": [
       "Text(0, 0.5, 'Frequency')"
      ]
     },
     "execution_count": 384,
     "metadata": {},
     "output_type": "execute_result"
    },
    {
     "data": {
      "image/png": "[encoded data removed]",
      "text/plain": [
       "<Figure size 432x288 with 1 Axes>"
      ]
     },
     "metadata": {
      "needs_background": "light"
     },
     "output_type": "display_data"
    }
   ],
   "source": [
    "#check skewed classes\n",
    "pd.value_counts(y_res).plot.bar()\n",
    "plt.title('Buy class histogram')\n",
    "plt.xlabel('y_buy')\n",
    "plt.ylabel('Frequency')"
   ]
  },
  {
   "cell_type": "markdown",
   "metadata": {},
   "source": [
    "# 2. Feature Selection\n"
   ]
  },
  {
   "cell_type": "code",
   "execution_count": 385,
   "metadata": {},
   "outputs": [
    {
     "name": "stdout",
     "output_type": "stream",
     "text": [
      "[ 6 13  2 11  7 12  8  3  1 10  5  4  9]\n"
     ]
    }
   ],
   "source": [
    "# feature selecetion 1. Recursive Feature Elimination for LR model\n",
    "from sklearn.feature_selection import RFE\n",
    "from sklearn.linear_model import LogisticRegression\n",
    "\n",
    "# feature extraction\n",
    "LR = LogisticRegression(random_state=0, solver='newton-cg')\n",
    "rfe = RFE(LR, 1)\n",
    "fit = rfe.fit(data_res,y_res)\n",
    "print(fit.ranking_) "
   ]
  },
  {
   "cell_type": "code",
   "execution_count": 386,
   "metadata": {},
   "outputs": [],
   "source": [
    "#based on two feature selection,I select 11 features as attributes\n",
    "original_cols=['isbuyer','buy_freq', 'visit_freq','buy_interval','sv_interval','expected_time_buy ', 'expected_time_visit', 'last_buy','last_visit', 'multiple_buy', 'multiple_visit', 'uniq_urls','num_checkins']\n",
    "feature_cols = ['isbuyer', 'visit_freq','buy_interval','sv_interval', 'expected_time_visit', 'last_buy','last_visit', 'multiple_buy', 'multiple_visit', 'uniq_urls','num_checkins']"
   ]
  },
  {
   "cell_type": "code",
   "execution_count": 387,
   "metadata": {},
   "outputs": [],
   "source": [
    "#after normalization, I have to change the dataset type and get the featured data\n",
    "data_res=pd.DataFrame(data_res)\n",
    "data_res.columns =original_cols\n",
    "\n",
    "data_test=pd.DataFrame(data_test)\n",
    "data_test.columns =original_cols\n",
    "\n",
    "data_pred_scale=pd.DataFrame(data_pred_scale)\n",
    "data_pred_scale.columns =original_cols\n",
    "\n",
    "X_train=data_res[feature_cols]\n",
    "X_test=data_test[feature_cols]\n",
    "X_pred=data_pred_scale[feature_cols]\n",
    "y_train=y_res"
   ]
  },
  {
   "cell_type": "markdown",
   "metadata": {},
   "source": [
    "### 3. Logistic Regrssion Model\n"
   ]
  },
  {
   "cell_type": "code",
   "execution_count": 388,
   "metadata": {},
   "outputs": [
    {
     "data": {
      "text/plain": [
       "LogisticRegression(C=1.0, class_weight='balanced', dual=False,\n",
       "          fit_intercept=True, intercept_scaling=1, max_iter=100,\n",
       "          multi_class='ovr', n_jobs=1, penalty='l2', random_state=None,\n",
       "          solver='liblinear', tol=0.0001, verbose=0, warm_start=False)"
      ]
     },
     "execution_count": 388,
     "metadata": {},
     "output_type": "execute_result"
    }
   ],
   "source": [
    "# train a logistic regression model on the training set\n",
    "LR= LogisticRegression(class_weight='balanced')\n",
    "# fit model\n",
    "LR.fit(X_train, y_train)"
   ]
  },
  {
   "cell_type": "code",
   "execution_count": 389,
   "metadata": {},
   "outputs": [
    {
     "data": {
      "text/plain": [
       "0.018874379486078396"
      ]
     },
     "execution_count": 389,
     "metadata": {},
     "output_type": "execute_result"
    }
   ],
   "source": [
    "# make class predictions for the testing set\n",
    "start = time.clock()\n",
    "y_pred1 = LR.predict(X_test)\n",
    "end = time.clock()\n",
    "t1=end - start\n",
    "t1"
   ]
  },
  {
   "cell_type": "code",
   "execution_count": 390,
   "metadata": {},
   "outputs": [
    {
     "name": "stdout",
     "output_type": "stream",
     "text": [
      "0.8199424234493589\n",
      "0.994433435009172\n",
      "0.8199424234493589\n",
      "0.04178272980501393\n"
     ]
    }
   ],
   "source": [
    "#Evaluate the LR model---score\n",
    "AC1=metrics.accuracy_score(y_test,y_pred1)\n",
    "PR1=metrics.precision_score(y_test,y_pred1, average='weighted')\n",
    "RE1=metrics.recall_score(y_test,y_pred1,average='weighted')\n",
    "F11=metrics.f1_score(y_test,y_pred1,average='binary')\n",
    "\n",
    "print(AC1)\n",
    "print(PR1)\n",
    "print(RE1)\n",
    "print(F11)"
   ]
  },
  {
   "cell_type": "code",
   "execution_count": 391,
   "metadata": {},
   "outputs": [
    {
     "name": "stdout",
     "output_type": "stream",
     "text": [
      "[[3118  685]\n",
      " [   3   15]]\n"
     ]
    }
   ],
   "source": [
    "#Evaluate the LR model---confusion matrix\n",
    "print(metrics.confusion_matrix(y_test, y_pred1))"
   ]
  },
  {
   "cell_type": "code",
   "execution_count": 392,
   "metadata": {
    "scrolled": false
   },
   "outputs": [
    {
     "data": {
      "image/png": "[encoded data removed]",
      "text/plain": [
       "<Figure size 432x288 with 1 Axes>"
      ]
     },
     "metadata": {
      "needs_background": "light"
     },
     "output_type": "display_data"
    },
    {
     "data": {
      "text/plain": [
       "0.8266061880971164"
      ]
     },
     "execution_count": 392,
     "metadata": {},
     "output_type": "execute_result"
    }
   ],
   "source": [
    "# Evaluate the LR model---ROC\n",
    "import scikitplot as skplt\n",
    "y_probas_LR=LR.predict_proba(X_test)\n",
    "skplt.metrics.plot_roc(y_test,y_probas_LR)\n",
    "plt.show()\n",
    "roc_auc1=metrics.roc_auc_score(y_test,y_pred1)\n",
    "roc_auc1"
   ]
  },
  {
   "cell_type": "code",
   "execution_count": 393,
   "metadata": {},
   "outputs": [],
   "source": [
    "from sklearn.model_selection import GridSearchCV\n",
    "from sklearn.metrics import make_scorer\n",
    "from sklearn.model_selection import StratifiedShuffleSplit"
   ]
  },
  {
   "cell_type": "code",
   "execution_count": 394,
   "metadata": {
    "scrolled": false
   },
   "outputs": [
    {
     "data": {
      "text/plain": [
       "GridSearchCV(cv=10, error_score='raise',\n",
       "       estimator=LogisticRegression(C=1.0, class_weight=None, dual=False, fit_intercept=True,\n",
       "          intercept_scaling=1, max_iter=100, multi_class='ovr', n_jobs=1,\n",
       "          penalty='l2', random_state=42, solver='liblinear', tol=0.0001,\n",
       "          verbose=0, warm_start=False),\n",
       "       fit_params=None, iid=True, n_jobs=1,\n",
       "       param_grid={'C': [0.001, 0.01, 0.1, 1, 10, 100, 1000], 'solver': ['sag', 'lbfgs', 'saga', 'newton-cg', 'liblinear']},\n",
       "       pre_dispatch='2*n_jobs', refit=True, return_train_score='warn',\n",
       "       scoring=None, verbose=0)"
      ]
     },
     "execution_count": 394,
     "metadata": {},
     "output_type": "execute_result"
    }
   ],
   "source": [
    "#Model tuning for Logistic Regression\n",
    "\n",
    "# Create the parameters list you wish to tune\n",
    "C = [0.001, 0.01, 0.1, 1, 10, 100, 1000]\n",
    "solver = ['sag','lbfgs','saga','newton-cg', 'liblinear']\n",
    "param_grid = dict(C=C,solver=solver)\n",
    "\n",
    "# Initialize the classifier\n",
    "LR = LogisticRegression(random_state=42)\n",
    "\n",
    "# Make an f1 scoring function using 'make_scorer' \n",
    "# myf1 = make_scorer(myf1, pos_label='1')\n",
    "\n",
    "# TODO: Perform grid search on the classifier using the f1_scorer as the scoring method\n",
    "LR_G = GridSearchCV(LR, param_grid, cv=10)\n",
    "# np.array(y_train)\n",
    "# TODO: Fit the grid search object to the training data and find the optimal parameters\n",
    "LR_G.fit(X_train, y_train)\n",
    "\n",
    "# Get the estimator\n",
    "LR_G"
   ]
  },
  {
   "cell_type": "code",
   "execution_count": 395,
   "metadata": {},
   "outputs": [
    {
     "data": {
      "text/plain": [
       "0.010774424314149655"
      ]
     },
     "execution_count": 395,
     "metadata": {},
     "output_type": "execute_result"
    }
   ],
   "source": [
    "# make class predictions for the testing set\n",
    "start = time.clock()\n",
    "y_pred2 = LR_G.predict(X_test)\n",
    "end = time.clock()\n",
    "t2=end - start\n",
    "t2"
   ]
  },
  {
   "cell_type": "code",
   "execution_count": 396,
   "metadata": {},
   "outputs": [
    {
     "name": "stdout",
     "output_type": "stream",
     "text": [
      "0.7914158597225857\n",
      "0.9943852124467599\n",
      "0.7914158597225857\n",
      "0.036275695284159616\n"
     ]
    }
   ],
   "source": [
    "#Evaluate the LR_G model---score\n",
    "AC2=metrics.accuracy_score(y_test,y_pred2)\n",
    "PR2=metrics.precision_score(y_test,y_pred2, average='weighted')\n",
    "RE2=metrics.recall_score(y_test,y_pred2,average='weighted')\n",
    "F12=metrics.f1_score(y_test,y_pred2,average='binary')\n",
    "print(AC2)\n",
    "print(PR2)\n",
    "print(RE2)\n",
    "print(F12)"
   ]
  },
  {
   "cell_type": "code",
   "execution_count": 397,
   "metadata": {},
   "outputs": [
    {
     "name": "stdout",
     "output_type": "stream",
     "text": [
      "[[3009  794]\n",
      " [   3   15]]\n"
     ]
    }
   ],
   "source": [
    "#Evaluate the LR_G model---confusion matrix\n",
    "print(metrics.confusion_matrix(y_test, y_pred2))"
   ]
  },
  {
   "cell_type": "code",
   "execution_count": 398,
   "metadata": {
    "scrolled": true
   },
   "outputs": [
    {
     "data": {
      "image/png": "[encoded data removed]",
      "text/plain": [
       "<Figure size 432x288 with 1 Axes>"
      ]
     },
     "metadata": {
      "needs_background": "light"
     },
     "output_type": "display_data"
    },
    {
     "data": {
      "text/plain": [
       "0.8122753966167061"
      ]
     },
     "execution_count": 398,
     "metadata": {},
     "output_type": "execute_result"
    }
   ],
   "source": [
    "# Evaluate the LR_G model---ROC\n",
    "import scikitplot as skplt\n",
    "y_probas_LR_G=LR_G.predict_proba(X_test)\n",
    "skplt.metrics.plot_roc(y_test,y_probas_LR_G)\n",
    "plt.show()\n",
    "roc_auc2=metrics.roc_auc_score(y_test,y_pred2)\n",
    "roc_auc2"
   ]
  },
  {
   "cell_type": "markdown",
   "metadata": {},
   "source": [
    "### 4.Naive Bayes Model"
   ]
  },
  {
   "cell_type": "code",
   "execution_count": 399,
   "metadata": {},
   "outputs": [
    {
     "data": {
      "text/plain": [
       "GaussianNB(priors=None)"
      ]
     },
     "execution_count": 399,
     "metadata": {},
     "output_type": "execute_result"
    }
   ],
   "source": [
    "# train a Naive Bayes Model on the training set\n",
    "from sklearn.naive_bayes import GaussianNB \n",
    "NB = GaussianNB()\n",
    "# fit mode\n",
    "NB.fit(X_train, y_train) "
   ]
  },
  {
   "cell_type": "code",
   "execution_count": 400,
   "metadata": {},
   "outputs": [
    {
     "data": {
      "text/plain": [
       "0.1052138891100185"
      ]
     },
     "execution_count": 400,
     "metadata": {},
     "output_type": "execute_result"
    }
   ],
   "source": [
    "# make class predictions for the testing set\n",
    "start = time.clock()\n",
    "y_pred3=NB.predict(X_test)\n",
    "end = time.clock()\n",
    "t3=end - start\n",
    "t3"
   ]
  },
  {
   "cell_type": "code",
   "execution_count": 401,
   "metadata": {},
   "outputs": [
    {
     "name": "stdout",
     "output_type": "stream",
     "text": [
      "0.9133734624443863\n",
      "0.993742889561107\n",
      "0.9133734624443863\n",
      "0.06760563380281691\n"
     ]
    }
   ],
   "source": [
    "#Evaluate the NB model---score\n",
    "AC3=metrics.accuracy_score(y_test,y_pred3)\n",
    "PR3=metrics.precision_score(y_test,y_pred3, average='weighted')\n",
    "RE3=metrics.recall_score(y_test,y_pred3,average='weighted')\n",
    "F13=metrics.f1_score(y_test,y_pred3,average='binary')\n",
    "print(AC3)\n",
    "print(PR3)\n",
    "print(RE3)\n",
    "print(F13)"
   ]
  },
  {
   "cell_type": "code",
   "execution_count": 402,
   "metadata": {},
   "outputs": [
    {
     "name": "stdout",
     "output_type": "stream",
     "text": [
      "[[3478  325]\n",
      " [   6   12]]\n"
     ]
    }
   ],
   "source": [
    "#Evaluate the NB model---confusion matrix\n",
    "print(metrics.confusion_matrix(y_test, y_pred3))"
   ]
  },
  {
   "cell_type": "code",
   "execution_count": 403,
   "metadata": {},
   "outputs": [
    {
     "data": {
      "image/png": "[encoded data removed]",
      "text/plain": [
       "<Figure size 432x288 with 1 Axes>"
      ]
     },
     "metadata": {
      "needs_background": "light"
     },
     "output_type": "display_data"
    },
    {
     "data": {
      "text/plain": [
       "0.7906039091944955"
      ]
     },
     "execution_count": 403,
     "metadata": {},
     "output_type": "execute_result"
    }
   ],
   "source": [
    "# Evaluate the NB model---ROC\n",
    "import scikitplot as skplt\n",
    "y_probas_NB=NB.predict_proba(X_test)\n",
    "skplt.metrics.plot_roc(y_test,y_probas_NB)\n",
    "plt.show()\n",
    "roc_auc3=metrics.roc_auc_score(y_test,y_pred3)\n",
    "roc_auc3"
   ]
  },
  {
   "cell_type": "markdown",
   "metadata": {},
   "source": [
    "### 5. RandomForest Model"
   ]
  },
  {
   "cell_type": "code",
   "execution_count": 404,
   "metadata": {},
   "outputs": [
    {
     "data": {
      "text/plain": [
       "RandomForestClassifier(bootstrap=True, class_weight=None, criterion='gini',\n",
       "            max_depth=None, max_features='auto', max_leaf_nodes=None,\n",
       "            min_impurity_decrease=0.0, min_impurity_split=None,\n",
       "            min_samples_leaf=1, min_samples_split=2,\n",
       "            min_weight_fraction_leaf=0.0, n_estimators=10, n_jobs=1,\n",
       "            oob_score=False, random_state=None, verbose=0,\n",
       "            warm_start=False)"
      ]
     },
     "execution_count": 404,
     "metadata": {},
     "output_type": "execute_result"
    }
   ],
   "source": [
    "from sklearn.ensemble import RandomForestClassifier\n",
    "RF = RandomForestClassifier()\n",
    "# fit model\n",
    "RF.fit(X_train, y_train)"
   ]
  },
  {
   "cell_type": "code",
   "execution_count": 405,
   "metadata": {},
   "outputs": [
    {
     "data": {
      "text/plain": [
       "0.013154676169506274"
      ]
     },
     "execution_count": 405,
     "metadata": {},
     "output_type": "execute_result"
    }
   ],
   "source": [
    "# make class predictions for the testing set\n",
    "start = time.clock()\n",
    "y_pred5 = RF.predict(X_test)\n",
    "end = time.clock()\n",
    "t5=end - start\n",
    "t5"
   ]
  },
  {
   "cell_type": "code",
   "execution_count": 406,
   "metadata": {},
   "outputs": [
    {
     "name": "stdout",
     "output_type": "stream",
     "text": [
      "0.976707668149699\n",
      "0.9908393375975911\n",
      "0.976707668149699\n",
      "0.02197802197802198\n"
     ]
    }
   ],
   "source": [
    "#Evaluate the RF model---score\n",
    "AC5=metrics.accuracy_score(y_test,y_pred5)\n",
    "PR5=metrics.precision_score(y_test,y_pred5, average='weighted')\n",
    "RE5=metrics.recall_score(y_test,y_pred5,average='weighted')\n",
    "F15=metrics.f1_score(y_test,y_pred5,average='binary')\n",
    "print(AC5)\n",
    "print(PR5)\n",
    "print(RE5)\n",
    "print(F15)"
   ]
  },
  {
   "cell_type": "code",
   "execution_count": 407,
   "metadata": {},
   "outputs": [
    {
     "name": "stdout",
     "output_type": "stream",
     "text": [
      "[[3731   72]\n",
      " [  17    1]]\n"
     ]
    }
   ],
   "source": [
    "#Evaluate the RF model---confusion matrix\n",
    "print(metrics.confusion_matrix(y_test, y_pred5))"
   ]
  },
  {
   "cell_type": "code",
   "execution_count": 408,
   "metadata": {},
   "outputs": [
    {
     "data": {
      "image/png": "[encoded data removed]",
      "text/plain": [
       "<Figure size 432x288 with 1 Axes>"
      ]
     },
     "metadata": {
      "needs_background": "light"
     },
     "output_type": "display_data"
    },
    {
     "data": {
      "text/plain": [
       "0.5183115668916353"
      ]
     },
     "execution_count": 408,
     "metadata": {},
     "output_type": "execute_result"
    }
   ],
   "source": [
    "# Evaluate the RF model---ROC\n",
    "import scikitplot as skplt\n",
    "y_probas_RF=RF.predict_proba(X_test)\n",
    "skplt.metrics.plot_roc(y_test,y_probas_RF)\n",
    "plt.show()\n",
    "roc_auc5=metrics.roc_auc_score(y_test,y_pred5)\n",
    "roc_auc5"
   ]
  },
  {
   "cell_type": "code",
   "execution_count": 409,
   "metadata": {},
   "outputs": [],
   "source": [
    "#Model tuning for RandomForest Model \n",
    "\n",
    "# Create the parameters list you wish to tune\n",
    "n_estimators = [10, 15, 20, 50, 100, 150]\n",
    "criterion = [\"gini\",\"entropy\"] \n",
    "min_samples_leaf = [2, 4, 6]\n",
    "param_grid = dict(n_estimators=n_estimators,criterion=criterion,min_samples_leaf=min_samples_leaf)\n",
    "\n",
    "# TODO: Perform grid search on the classifier \n",
    "RF_G = GridSearchCV(RF,param_grid=param_grid,cv=10)\n",
    "\n",
    "# TODO: Fit the grid search object to the training data and find the optimal parameters\n",
    "RF_G.fit(X_train, y_train)\n",
    "\n",
    "# Get the estimator\n",
    "RF_G=RF_G.best_estimator_"
   ]
  },
  {
   "cell_type": "code",
   "execution_count": 410,
   "metadata": {},
   "outputs": [
    {
     "data": {
      "text/plain": [
       "RandomForestClassifier(bootstrap=True, class_weight=None, criterion='entropy',\n",
       "            max_depth=None, max_features='auto', max_leaf_nodes=None,\n",
       "            min_impurity_decrease=0.0, min_impurity_split=None,\n",
       "            min_samples_leaf=2, min_samples_split=2,\n",
       "            min_weight_fraction_leaf=0.0, n_estimators=150, n_jobs=1,\n",
       "            oob_score=False, random_state=None, verbose=0,\n",
       "            warm_start=False)"
      ]
     },
     "execution_count": 410,
     "metadata": {},
     "output_type": "execute_result"
    }
   ],
   "source": [
    "RF_G"
   ]
  },
  {
   "cell_type": "code",
   "execution_count": 411,
   "metadata": {},
   "outputs": [
    {
     "data": {
      "text/plain": [
       "0.12839718304167036"
      ]
     },
     "execution_count": 411,
     "metadata": {},
     "output_type": "execute_result"
    }
   ],
   "source": [
    "# make class predictions for the testing set\n",
    "start = time.clock()\n",
    "y_pred6 = RF_G.predict(X_test)\n",
    "end = time.clock()\n",
    "t6=end - start\n",
    "t6"
   ]
  },
  {
   "cell_type": "code",
   "execution_count": 412,
   "metadata": {},
   "outputs": [
    {
     "name": "stdout",
     "output_type": "stream",
     "text": [
      "0.9774928029311698\n",
      "0.9914958258011658\n",
      "0.9774928029311698\n",
      "0.06521739130434784\n"
     ]
    }
   ],
   "source": [
    "#Evaluate the RF_G model---score\n",
    "AC6=metrics.accuracy_score(y_test,y_pred6)\n",
    "PR6=metrics.precision_score(y_test,y_pred6, average='weighted')\n",
    "RE6=metrics.recall_score(y_test,y_pred6,average='weighted')\n",
    "F16=metrics.f1_score(y_test,y_pred6,average='binary')\n",
    "print(AC6)\n",
    "print(PR6)\n",
    "print(RE6)\n",
    "print(F16)"
   ]
  },
  {
   "cell_type": "code",
   "execution_count": 221,
   "metadata": {},
   "outputs": [
    {
     "name": "stdout",
     "output_type": "stream",
     "text": [
      "[[3733   70]\n",
      " [  16    2]]\n"
     ]
    }
   ],
   "source": [
    "#Evaluate the RF_G model---confusion matrix\n",
    "print(metrics.confusion_matrix(y_test, y_pred6))"
   ]
  },
  {
   "cell_type": "code",
   "execution_count": 222,
   "metadata": {},
   "outputs": [
    {
     "data": {
      "image/png": "[encoded data removed]",
      "text/plain": [
       "<Figure size 432x288 with 1 Axes>"
      ]
     },
     "metadata": {
      "needs_background": "light"
     },
     "output_type": "display_data"
    },
    {
     "data": {
      "text/plain": [
       "0.5463522949718059"
      ]
     },
     "execution_count": 222,
     "metadata": {},
     "output_type": "execute_result"
    }
   ],
   "source": [
    "# Evaluate the RF_G model---ROC\n",
    "import scikitplot as skplt\n",
    "y_probas_RF_G=RF_G.predict_proba(X_test)\n",
    "skplt.metrics.plot_roc(y_test,y_probas_RF_G)\n",
    "plt.show()\n",
    "roc_auc6=metrics.roc_auc_score(y_test,y_pred6)\n",
    "roc_auc6"
   ]
  },
  {
   "cell_type": "markdown",
   "metadata": {},
   "source": [
    "### 6. Decision Tree Model"
   ]
  },
  {
   "cell_type": "code",
   "execution_count": 223,
   "metadata": {},
   "outputs": [
    {
     "data": {
      "text/plain": [
       "DecisionTreeClassifier(class_weight=None, criterion='gini', max_depth=None,\n",
       "            max_features=None, max_leaf_nodes=None,\n",
       "            min_impurity_decrease=0.0, min_impurity_split=None,\n",
       "            min_samples_leaf=1, min_samples_split=2,\n",
       "            min_weight_fraction_leaf=0.0, presort=False, random_state=None,\n",
       "            splitter='best')"
      ]
     },
     "execution_count": 223,
     "metadata": {},
     "output_type": "execute_result"
    }
   ],
   "source": [
    "# train a Decision Tree Model on the training set\n",
    "from sklearn.tree import DecisionTreeClassifier\n",
    "DT= DecisionTreeClassifier()\n",
    "# fit model\n",
    "DT.fit(X_train, y_train)"
   ]
  },
  {
   "cell_type": "code",
   "execution_count": 224,
   "metadata": {},
   "outputs": [
    {
     "data": {
      "text/plain": [
       "0.0012286136552575044"
      ]
     },
     "execution_count": 224,
     "metadata": {},
     "output_type": "execute_result"
    }
   ],
   "source": [
    "# make class predictions for the testing set\n",
    "start = time.clock()\n",
    "y_pred7 = DT.predict(X_test)\n",
    "end = time.clock()\n",
    "t7=end - start\n",
    "t7"
   ]
  },
  {
   "cell_type": "code",
   "execution_count": 225,
   "metadata": {},
   "outputs": [
    {
     "name": "stdout",
     "output_type": "stream",
     "text": [
      "0.9678094739596964\n",
      "0.9910855885501303\n",
      "0.9678094739596964\n",
      "0.03149606299212599\n"
     ]
    }
   ],
   "source": [
    "#Evaluate the DT model---score\n",
    "AC7=metrics.accuracy_score(y_test,y_pred7)\n",
    "PR7=metrics.precision_score(y_test,y_pred7, average='weighted')\n",
    "RE7=metrics.recall_score(y_test,y_pred7,average='weighted')\n",
    "F17=metrics.f1_score(y_test,y_pred7,average='binary')\n",
    "print(AC7)\n",
    "print(PR7)\n",
    "print(RE7)\n",
    "print(F17)"
   ]
  },
  {
   "cell_type": "code",
   "execution_count": 226,
   "metadata": {},
   "outputs": [
    {
     "name": "stdout",
     "output_type": "stream",
     "text": [
      "[[3696  107]\n",
      " [  16    2]]\n"
     ]
    }
   ],
   "source": [
    "#Evaluate the DT model---confusion matrix\n",
    "print(metrics.confusion_matrix(y_test, y_pred7))"
   ]
  },
  {
   "cell_type": "code",
   "execution_count": 227,
   "metadata": {},
   "outputs": [
    {
     "data": {
      "image/png": "[encoded data removed]",
      "text/plain": [
       "<Figure size 432x288 with 1 Axes>"
      ]
     },
     "metadata": {
      "needs_background": "light"
     },
     "output_type": "display_data"
    },
    {
     "data": {
      "text/plain": [
       "0.5414877143775382"
      ]
     },
     "execution_count": 227,
     "metadata": {},
     "output_type": "execute_result"
    }
   ],
   "source": [
    "# Evaluate the DT model---ROC\n",
    "import scikitplot as skplt\n",
    "y_probas_DT=DT.predict_proba(X_test)\n",
    "skplt.metrics.plot_roc(y_test,y_probas_DT)\n",
    "plt.show()\n",
    "roc_auc7=metrics.roc_auc_score(y_test,y_pred7)\n",
    "roc_auc7"
   ]
  },
  {
   "cell_type": "code",
   "execution_count": 228,
   "metadata": {},
   "outputs": [
    {
     "data": {
      "text/plain": [
       "GridSearchCV(cv=10, error_score='raise',\n",
       "       estimator=DecisionTreeClassifier(class_weight=None, criterion='gini', max_depth=None,\n",
       "            max_features=None, max_leaf_nodes=None,\n",
       "            min_impurity_decrease=0.0, min_impurity_split=None,\n",
       "            min_samples_leaf=1, min_samples_split=2,\n",
       "            min_weight_fraction_leaf=0.0, presort=False, random_state=None,\n",
       "            splitter='best'),\n",
       "       fit_params=None, iid=True, n_jobs=1,\n",
       "       param_grid={'min_samples_split': [2, 3, 4, 5, 6, 7, 8, 9, 10, 11, 12, 13, 14, 15, 16, 17, 18, 19, 20, 21, 22, 23, 24, 25, 26, 27, 28, 29, 30, 31, 32, 33, 34, 35, 36, 37, 38, 39, 40, 41, 42, 43, 44, 45, 46, 47, 48, 49], 'max_depth': [1, 3, 5, 7, 9, 11, 13, 15, 17, 19]},\n",
       "       pre_dispatch='2*n_jobs', refit=True, return_train_score='warn',\n",
       "       scoring='accuracy', verbose=0)"
      ]
     },
     "execution_count": 228,
     "metadata": {},
     "output_type": "execute_result"
    }
   ],
   "source": [
    "#Model tuning for Decision Tree Model\n",
    "\n",
    "# Create the parameters list you wish to tune\n",
    "sample_split_range = list(range(2, 50,1))\n",
    "max_depth=list(range(1,20,2))\n",
    "\n",
    "param_grid = dict(min_samples_split=sample_split_range,max_depth=max_depth)\n",
    "\n",
    "# TODO: Perform grid search on the classifier using the f1_scorer as the scoring method\n",
    "DT_G = GridSearchCV(DT, param_grid, cv=10,scoring='accuracy')\n",
    "\n",
    "# TODO: Fit the grid search object to the training data and find the optimal parameters\n",
    "DT_G.fit(X_train, y_train)\n",
    "\n",
    "# Get the estimator\n",
    "DT_G\n"
   ]
  },
  {
   "cell_type": "code",
   "execution_count": 230,
   "metadata": {},
   "outputs": [
    {
     "data": {
      "text/plain": [
       "GridSearchCV(cv=10, error_score='raise',\n",
       "       estimator=DecisionTreeClassifier(class_weight=None, criterion='gini', max_depth=None,\n",
       "            max_features=None, max_leaf_nodes=None,\n",
       "            min_impurity_decrease=0.0, min_impurity_split=None,\n",
       "            min_samples_leaf=1, min_samples_split=2,\n",
       "            min_weight_fraction_leaf=0.0, presort=False, random_state=None,\n",
       "            splitter='best'),\n",
       "       fit_params=None, iid=True, n_jobs=1,\n",
       "       param_grid={'min_samples_split': [2, 3, 4, 5, 6, 7, 8, 9, 10, 11, 12, 13, 14, 15, 16, 17, 18, 19, 20, 21, 22, 23, 24, 25, 26, 27, 28, 29, 30, 31, 32, 33, 34, 35, 36, 37, 38, 39, 40, 41, 42, 43, 44, 45, 46, 47, 48, 49], 'max_depth': [1, 3, 5, 7, 9, 11, 13, 15, 17, 19]},\n",
       "       pre_dispatch='2*n_jobs', refit=True, return_train_score='warn',\n",
       "       scoring='accuracy', verbose=0)"
      ]
     },
     "execution_count": 230,
     "metadata": {},
     "output_type": "execute_result"
    }
   ],
   "source": [
    "DT_G"
   ]
  },
  {
   "cell_type": "code",
   "execution_count": 231,
   "metadata": {},
   "outputs": [
    {
     "data": {
      "text/plain": [
       "0.0011114399203506764"
      ]
     },
     "execution_count": 231,
     "metadata": {},
     "output_type": "execute_result"
    }
   ],
   "source": [
    "# make class predictions for the testing set\n",
    "start = time.clock()\n",
    "y_pred8 = DT_G.predict(X_test)\n",
    "end = time.clock()\n",
    "t8=end - start\n",
    "t8"
   ]
  },
  {
   "cell_type": "code",
   "execution_count": 232,
   "metadata": {},
   "outputs": [
    {
     "name": "stdout",
     "output_type": "stream",
     "text": [
      "0.960743260926459\n",
      "0.9910369951657196\n",
      "0.960743260926459\n",
      "0.025974025974025972\n"
     ]
    }
   ],
   "source": [
    "#Evaluate the DT_G model---score\n",
    "AC8=metrics.accuracy_score(y_test,y_pred8)\n",
    "PR8=metrics.precision_score(y_test,y_pred8, average='weighted')\n",
    "RE8=metrics.recall_score(y_test,y_pred8,average='weighted')\n",
    "F18=metrics.f1_score(y_test,y_pred8,average='binary')\n",
    "print(AC8)\n",
    "print(PR8)\n",
    "print(RE8)\n",
    "print(F18)"
   ]
  },
  {
   "cell_type": "code",
   "execution_count": 233,
   "metadata": {},
   "outputs": [
    {
     "name": "stdout",
     "output_type": "stream",
     "text": [
      "[[3669  134]\n",
      " [  16    2]]\n"
     ]
    }
   ],
   "source": [
    "#Evaluate the DT_G model---confusion matrix\n",
    "print(metrics.confusion_matrix(y_test, y_pred8))"
   ]
  },
  {
   "cell_type": "code",
   "execution_count": 234,
   "metadata": {},
   "outputs": [
    {
     "data": {
      "image/png": "[encoded data removed]",
      "text/plain": [
       "<Figure size 432x288 with 1 Axes>"
      ]
     },
     "metadata": {
      "needs_background": "light"
     },
     "output_type": "display_data"
    },
    {
     "data": {
      "text/plain": [
       "0.5379378852952348"
      ]
     },
     "execution_count": 234,
     "metadata": {},
     "output_type": "execute_result"
    }
   ],
   "source": [
    "# Evaluate the DT_G model---ROC\n",
    "y_probas_DT_G=DT_G.predict_proba(X_test)\n",
    "skplt.metrics.plot_roc(y_test,y_probas_DT_G)\n",
    "plt.show()\n",
    "roc_auc8=metrics.roc_auc_score(y_test,y_pred8)\n",
    "roc_auc8"
   ]
  },
  {
   "cell_type": "markdown",
   "metadata": {},
   "source": [
    "### 7. Compare seven models"
   ]
  },
  {
   "cell_type": "code",
   "execution_count": 235,
   "metadata": {},
   "outputs": [],
   "source": [
    "model_name=['LR','LR_G','NB','RF','RF_G','DT','DT_G']\n",
    "model_time=[t1,t2,t3,t5,t6,t7,t8]\n",
    "model_ac=[AC1,AC2,AC3,AC5,AC6,AC7,AC8]\n",
    "model_f1=[F11,F12,F13,F15,F16,F17,F18]\n",
    "model_roc_auc=[roc_auc1,roc_auc2,roc_auc3,roc_auc5,roc_auc6,roc_auc7,roc_auc8]"
   ]
  },
  {
   "cell_type": "code",
   "execution_count": 237,
   "metadata": {},
   "outputs": [
    {
     "data": {
      "image/png": "[encoded data removed]",
      "text/plain": [
       "<Figure size 432x288 with 1 Axes>"
      ]
     },
     "metadata": {
      "needs_background": "light"
     },
     "output_type": "display_data"
    }
   ],
   "source": [
    "#compare computing time\n",
    "\n",
    "plt.bar(range(len(model_time)),model_time,tick_label=model_name)\n",
    "\n",
    "plt.show()"
   ]
  },
  {
   "cell_type": "code",
   "execution_count": 238,
   "metadata": {},
   "outputs": [
    {
     "data": {
      "image/png": "[encoded data removed]",
      "text/plain": [
       "<Figure size 432x288 with 1 Axes>"
      ]
     },
     "metadata": {
      "needs_background": "light"
     },
     "output_type": "display_data"
    }
   ],
   "source": [
    "#compare accuracy\n",
    "\n",
    "plt.bar(range(0,len(model_ac)),model_ac,tick_label=model_name)\n",
    "\n",
    "plt.show()"
   ]
  },
  {
   "cell_type": "code",
   "execution_count": 239,
   "metadata": {},
   "outputs": [
    {
     "data": {
      "image/png": "[encoded data removed]",
      "text/plain": [
       "<Figure size 432x288 with 1 Axes>"
      ]
     },
     "metadata": {
      "needs_background": "light"
     },
     "output_type": "display_data"
    }
   ],
   "source": [
    "#compare computing time\n",
    "\n",
    "plt.bar(range(len(model_f1)),model_f1,tick_label=model_name)\n",
    "\n",
    "plt.show()"
   ]
  },
  {
   "cell_type": "code",
   "execution_count": 240,
   "metadata": {},
   "outputs": [
    {
     "data": {
      "image/png": "[encoded data removed]",
      "text/plain": [
       "<Figure size 432x288 with 1 Axes>"
      ]
     },
     "metadata": {
      "needs_background": "light"
     },
     "output_type": "display_data"
    }
   ],
   "source": [
    "#compare roc_auc score\n",
    "\n",
    "plt.bar(range(len(model_roc_auc)),model_roc_auc,tick_label=model_name)\n",
    "\n",
    "plt.show()"
   ]
  },
  {
   "cell_type": "markdown",
   "metadata": {},
   "source": [
    "### 8. Predict Data"
   ]
  },
  {
   "cell_type": "code",
   "execution_count": 354,
   "metadata": {
    "scrolled": true
   },
   "outputs": [
    {
     "data": {
      "text/plain": [
       "array([[0.88049602, 0.11950398],\n",
       "       [0.48442625, 0.51557375],\n",
       "       [0.69533172, 0.30466828],\n",
       "       ...,\n",
       "       [0.18200014, 0.81799986],\n",
       "       [0.93053925, 0.06946075],\n",
       "       [0.83787236, 0.16212764]])"
      ]
     },
     "execution_count": 354,
     "metadata": {},
     "output_type": "execute_result"
    }
   ],
   "source": [
    "# predict ads_test.csv data\n",
    "y_pred=LR.predict(X_pred)\n",
    "y_pred_prob=LR.predict_proba(X_pred)\n",
    "y_pred_prob"
   ]
  },
  {
   "cell_type": "code",
   "execution_count": 355,
   "metadata": {},
   "outputs": [
    {
     "data": {
      "text/html": [
       "<div>\n",
       "<style scoped>\n",
       "    .dataframe tbody tr th:only-of-type {\n",
       "        vertical-align: middle;\n",
       "    }\n",
       "\n",
       "    .dataframe tbody tr th {\n",
       "        vertical-align: top;\n",
       "    }\n",
       "\n",
       "    .dataframe thead th {\n",
       "        text-align: right;\n",
       "    }\n",
       "</style>\n",
       "<table border=\"1\" class=\"dataframe\">\n",
       "  <thead>\n",
       "    <tr style=\"text-align: right;\">\n",
       "      <th></th>\n",
       "      <th>0</th>\n",
       "      <th>1</th>\n",
       "    </tr>\n",
       "  </thead>\n",
       "  <tbody>\n",
       "    <tr>\n",
       "      <th>1</th>\n",
       "      <td>0.880496</td>\n",
       "      <td>0.119504</td>\n",
       "    </tr>\n",
       "    <tr>\n",
       "      <th>2</th>\n",
       "      <td>0.484426</td>\n",
       "      <td>0.515574</td>\n",
       "    </tr>\n",
       "    <tr>\n",
       "      <th>3</th>\n",
       "      <td>0.695332</td>\n",
       "      <td>0.304668</td>\n",
       "    </tr>\n",
       "    <tr>\n",
       "      <th>4</th>\n",
       "      <td>0.909616</td>\n",
       "      <td>0.090384</td>\n",
       "    </tr>\n",
       "    <tr>\n",
       "      <th>5</th>\n",
       "      <td>0.926176</td>\n",
       "      <td>0.073824</td>\n",
       "    </tr>\n",
       "    <tr>\n",
       "      <th>6</th>\n",
       "      <td>0.564040</td>\n",
       "      <td>0.435960</td>\n",
       "    </tr>\n",
       "    <tr>\n",
       "      <th>7</th>\n",
       "      <td>0.806455</td>\n",
       "      <td>0.193545</td>\n",
       "    </tr>\n",
       "    <tr>\n",
       "      <th>8</th>\n",
       "      <td>0.720047</td>\n",
       "      <td>0.279953</td>\n",
       "    </tr>\n",
       "    <tr>\n",
       "      <th>9</th>\n",
       "      <td>0.884344</td>\n",
       "      <td>0.115656</td>\n",
       "    </tr>\n",
       "    <tr>\n",
       "      <th>10</th>\n",
       "      <td>0.657057</td>\n",
       "      <td>0.342943</td>\n",
       "    </tr>\n",
       "    <tr>\n",
       "      <th>11</th>\n",
       "      <td>0.570651</td>\n",
       "      <td>0.429349</td>\n",
       "    </tr>\n",
       "    <tr>\n",
       "      <th>12</th>\n",
       "      <td>0.954460</td>\n",
       "      <td>0.045540</td>\n",
       "    </tr>\n",
       "    <tr>\n",
       "      <th>13</th>\n",
       "      <td>0.910709</td>\n",
       "      <td>0.089291</td>\n",
       "    </tr>\n",
       "    <tr>\n",
       "      <th>14</th>\n",
       "      <td>0.816855</td>\n",
       "      <td>0.183145</td>\n",
       "    </tr>\n",
       "    <tr>\n",
       "      <th>15</th>\n",
       "      <td>0.809803</td>\n",
       "      <td>0.190197</td>\n",
       "    </tr>\n",
       "    <tr>\n",
       "      <th>16</th>\n",
       "      <td>0.191821</td>\n",
       "      <td>0.808179</td>\n",
       "    </tr>\n",
       "    <tr>\n",
       "      <th>17</th>\n",
       "      <td>0.661097</td>\n",
       "      <td>0.338903</td>\n",
       "    </tr>\n",
       "    <tr>\n",
       "      <th>18</th>\n",
       "      <td>0.653702</td>\n",
       "      <td>0.346298</td>\n",
       "    </tr>\n",
       "    <tr>\n",
       "      <th>19</th>\n",
       "      <td>0.863767</td>\n",
       "      <td>0.136233</td>\n",
       "    </tr>\n",
       "    <tr>\n",
       "      <th>20</th>\n",
       "      <td>0.950025</td>\n",
       "      <td>0.049975</td>\n",
       "    </tr>\n",
       "    <tr>\n",
       "      <th>21</th>\n",
       "      <td>0.977797</td>\n",
       "      <td>0.022203</td>\n",
       "    </tr>\n",
       "    <tr>\n",
       "      <th>22</th>\n",
       "      <td>0.983860</td>\n",
       "      <td>0.016140</td>\n",
       "    </tr>\n",
       "    <tr>\n",
       "      <th>23</th>\n",
       "      <td>0.815261</td>\n",
       "      <td>0.184739</td>\n",
       "    </tr>\n",
       "    <tr>\n",
       "      <th>24</th>\n",
       "      <td>0.929411</td>\n",
       "      <td>0.070589</td>\n",
       "    </tr>\n",
       "    <tr>\n",
       "      <th>25</th>\n",
       "      <td>0.552105</td>\n",
       "      <td>0.447895</td>\n",
       "    </tr>\n",
       "    <tr>\n",
       "      <th>26</th>\n",
       "      <td>0.778467</td>\n",
       "      <td>0.221533</td>\n",
       "    </tr>\n",
       "    <tr>\n",
       "      <th>27</th>\n",
       "      <td>0.960445</td>\n",
       "      <td>0.039555</td>\n",
       "    </tr>\n",
       "    <tr>\n",
       "      <th>28</th>\n",
       "      <td>0.731576</td>\n",
       "      <td>0.268424</td>\n",
       "    </tr>\n",
       "    <tr>\n",
       "      <th>29</th>\n",
       "      <td>0.814707</td>\n",
       "      <td>0.185293</td>\n",
       "    </tr>\n",
       "    <tr>\n",
       "      <th>30</th>\n",
       "      <td>0.574295</td>\n",
       "      <td>0.425705</td>\n",
       "    </tr>\n",
       "    <tr>\n",
       "      <th>...</th>\n",
       "      <td>...</td>\n",
       "      <td>...</td>\n",
       "    </tr>\n",
       "    <tr>\n",
       "      <th>16346</th>\n",
       "      <td>0.960887</td>\n",
       "      <td>0.039113</td>\n",
       "    </tr>\n",
       "    <tr>\n",
       "      <th>16347</th>\n",
       "      <td>0.612069</td>\n",
       "      <td>0.387931</td>\n",
       "    </tr>\n",
       "    <tr>\n",
       "      <th>16348</th>\n",
       "      <td>0.485646</td>\n",
       "      <td>0.514354</td>\n",
       "    </tr>\n",
       "    <tr>\n",
       "      <th>16349</th>\n",
       "      <td>0.475015</td>\n",
       "      <td>0.524985</td>\n",
       "    </tr>\n",
       "    <tr>\n",
       "      <th>16350</th>\n",
       "      <td>0.588157</td>\n",
       "      <td>0.411843</td>\n",
       "    </tr>\n",
       "    <tr>\n",
       "      <th>16351</th>\n",
       "      <td>0.106011</td>\n",
       "      <td>0.893989</td>\n",
       "    </tr>\n",
       "    <tr>\n",
       "      <th>16352</th>\n",
       "      <td>0.959599</td>\n",
       "      <td>0.040401</td>\n",
       "    </tr>\n",
       "    <tr>\n",
       "      <th>16353</th>\n",
       "      <td>0.897200</td>\n",
       "      <td>0.102800</td>\n",
       "    </tr>\n",
       "    <tr>\n",
       "      <th>16354</th>\n",
       "      <td>0.854201</td>\n",
       "      <td>0.145799</td>\n",
       "    </tr>\n",
       "    <tr>\n",
       "      <th>16355</th>\n",
       "      <td>0.184438</td>\n",
       "      <td>0.815562</td>\n",
       "    </tr>\n",
       "    <tr>\n",
       "      <th>16356</th>\n",
       "      <td>0.871395</td>\n",
       "      <td>0.128605</td>\n",
       "    </tr>\n",
       "    <tr>\n",
       "      <th>16357</th>\n",
       "      <td>0.476267</td>\n",
       "      <td>0.523733</td>\n",
       "    </tr>\n",
       "    <tr>\n",
       "      <th>16358</th>\n",
       "      <td>0.941199</td>\n",
       "      <td>0.058801</td>\n",
       "    </tr>\n",
       "    <tr>\n",
       "      <th>16359</th>\n",
       "      <td>0.215656</td>\n",
       "      <td>0.784344</td>\n",
       "    </tr>\n",
       "    <tr>\n",
       "      <th>16360</th>\n",
       "      <td>0.975266</td>\n",
       "      <td>0.024734</td>\n",
       "    </tr>\n",
       "    <tr>\n",
       "      <th>16361</th>\n",
       "      <td>0.688601</td>\n",
       "      <td>0.311399</td>\n",
       "    </tr>\n",
       "    <tr>\n",
       "      <th>16362</th>\n",
       "      <td>0.426728</td>\n",
       "      <td>0.573272</td>\n",
       "    </tr>\n",
       "    <tr>\n",
       "      <th>16363</th>\n",
       "      <td>0.771012</td>\n",
       "      <td>0.228988</td>\n",
       "    </tr>\n",
       "    <tr>\n",
       "      <th>16364</th>\n",
       "      <td>0.869768</td>\n",
       "      <td>0.130232</td>\n",
       "    </tr>\n",
       "    <tr>\n",
       "      <th>16365</th>\n",
       "      <td>0.484326</td>\n",
       "      <td>0.515674</td>\n",
       "    </tr>\n",
       "    <tr>\n",
       "      <th>16366</th>\n",
       "      <td>0.788558</td>\n",
       "      <td>0.211442</td>\n",
       "    </tr>\n",
       "    <tr>\n",
       "      <th>16367</th>\n",
       "      <td>0.917533</td>\n",
       "      <td>0.082467</td>\n",
       "    </tr>\n",
       "    <tr>\n",
       "      <th>16368</th>\n",
       "      <td>0.649205</td>\n",
       "      <td>0.350795</td>\n",
       "    </tr>\n",
       "    <tr>\n",
       "      <th>16369</th>\n",
       "      <td>0.894612</td>\n",
       "      <td>0.105388</td>\n",
       "    </tr>\n",
       "    <tr>\n",
       "      <th>16370</th>\n",
       "      <td>0.283320</td>\n",
       "      <td>0.716680</td>\n",
       "    </tr>\n",
       "    <tr>\n",
       "      <th>16371</th>\n",
       "      <td>0.810704</td>\n",
       "      <td>0.189296</td>\n",
       "    </tr>\n",
       "    <tr>\n",
       "      <th>16372</th>\n",
       "      <td>0.963368</td>\n",
       "      <td>0.036632</td>\n",
       "    </tr>\n",
       "    <tr>\n",
       "      <th>16373</th>\n",
       "      <td>0.182000</td>\n",
       "      <td>0.818000</td>\n",
       "    </tr>\n",
       "    <tr>\n",
       "      <th>16374</th>\n",
       "      <td>0.930539</td>\n",
       "      <td>0.069461</td>\n",
       "    </tr>\n",
       "    <tr>\n",
       "      <th>16375</th>\n",
       "      <td>0.837872</td>\n",
       "      <td>0.162128</td>\n",
       "    </tr>\n",
       "  </tbody>\n",
       "</table>\n",
       "<p>16375 rows × 2 columns</p>\n",
       "</div>"
      ],
      "text/plain": [
       "              0         1\n",
       "1      0.880496  0.119504\n",
       "2      0.484426  0.515574\n",
       "3      0.695332  0.304668\n",
       "4      0.909616  0.090384\n",
       "5      0.926176  0.073824\n",
       "6      0.564040  0.435960\n",
       "7      0.806455  0.193545\n",
       "8      0.720047  0.279953\n",
       "9      0.884344  0.115656\n",
       "10     0.657057  0.342943\n",
       "11     0.570651  0.429349\n",
       "12     0.954460  0.045540\n",
       "13     0.910709  0.089291\n",
       "14     0.816855  0.183145\n",
       "15     0.809803  0.190197\n",
       "16     0.191821  0.808179\n",
       "17     0.661097  0.338903\n",
       "18     0.653702  0.346298\n",
       "19     0.863767  0.136233\n",
       "20     0.950025  0.049975\n",
       "21     0.977797  0.022203\n",
       "22     0.983860  0.016140\n",
       "23     0.815261  0.184739\n",
       "24     0.929411  0.070589\n",
       "25     0.552105  0.447895\n",
       "26     0.778467  0.221533\n",
       "27     0.960445  0.039555\n",
       "28     0.731576  0.268424\n",
       "29     0.814707  0.185293\n",
       "30     0.574295  0.425705\n",
       "...         ...       ...\n",
       "16346  0.960887  0.039113\n",
       "16347  0.612069  0.387931\n",
       "16348  0.485646  0.514354\n",
       "16349  0.475015  0.524985\n",
       "16350  0.588157  0.411843\n",
       "16351  0.106011  0.893989\n",
       "16352  0.959599  0.040401\n",
       "16353  0.897200  0.102800\n",
       "16354  0.854201  0.145799\n",
       "16355  0.184438  0.815562\n",
       "16356  0.871395  0.128605\n",
       "16357  0.476267  0.523733\n",
       "16358  0.941199  0.058801\n",
       "16359  0.215656  0.784344\n",
       "16360  0.975266  0.024734\n",
       "16361  0.688601  0.311399\n",
       "16362  0.426728  0.573272\n",
       "16363  0.771012  0.228988\n",
       "16364  0.869768  0.130232\n",
       "16365  0.484326  0.515674\n",
       "16366  0.788558  0.211442\n",
       "16367  0.917533  0.082467\n",
       "16368  0.649205  0.350795\n",
       "16369  0.894612  0.105388\n",
       "16370  0.283320  0.716680\n",
       "16371  0.810704  0.189296\n",
       "16372  0.963368  0.036632\n",
       "16373  0.182000  0.818000\n",
       "16374  0.930539  0.069461\n",
       "16375  0.837872  0.162128\n",
       "\n",
       "[16375 rows x 2 columns]"
      ]
     },
     "execution_count": 355,
     "metadata": {},
     "output_type": "execute_result"
    }
   ],
   "source": [
    "# process some type and index problems\n",
    "y_pred_prob=pd.DataFrame(y_pred_prob)\n",
    "y_pred_prob.index+= 1 \n",
    "y_pred_prob"
   ]
  },
  {
   "cell_type": "code",
   "execution_count": 356,
   "metadata": {},
   "outputs": [],
   "source": [
    "# add class and probability columns to original dataset\n",
    "data_pred['y_buy_prob']=y_pred_prob.max(axis=1)\n",
    "data_pred['y_buy']=y_pred"
   ]
  },
  {
   "cell_type": "code",
   "execution_count": 357,
   "metadata": {},
   "outputs": [
    {
     "data": {
      "text/html": [
       "<div>\n",
       "<style scoped>\n",
       "    .dataframe tbody tr th:only-of-type {\n",
       "        vertical-align: middle;\n",
       "    }\n",
       "\n",
       "    .dataframe tbody tr th {\n",
       "        vertical-align: top;\n",
       "    }\n",
       "\n",
       "    .dataframe thead th {\n",
       "        text-align: right;\n",
       "    }\n",
       "</style>\n",
       "<table border=\"1\" class=\"dataframe\">\n",
       "  <thead>\n",
       "    <tr style=\"text-align: right;\">\n",
       "      <th></th>\n",
       "      <th>isbuyer</th>\n",
       "      <th>buy_freq</th>\n",
       "      <th>visit_freq</th>\n",
       "      <th>buy_interval</th>\n",
       "      <th>sv_interval</th>\n",
       "      <th>expected_time_buy</th>\n",
       "      <th>expected_time_visit</th>\n",
       "      <th>last_buy</th>\n",
       "      <th>last_visit</th>\n",
       "      <th>multiple_buy</th>\n",
       "      <th>multiple_visit</th>\n",
       "      <th>uniq_urls</th>\n",
       "      <th>num_checkins</th>\n",
       "      <th>y_buy</th>\n",
       "      <th>y_buy_prob</th>\n",
       "    </tr>\n",
       "  </thead>\n",
       "  <tbody>\n",
       "    <tr>\n",
       "      <th>1</th>\n",
       "      <td>0</td>\n",
       "      <td>0</td>\n",
       "      <td>1</td>\n",
       "      <td>0.0</td>\n",
       "      <td>0.000000</td>\n",
       "      <td>0.0</td>\n",
       "      <td>0.000000</td>\n",
       "      <td>72</td>\n",
       "      <td>72</td>\n",
       "      <td>0</td>\n",
       "      <td>0</td>\n",
       "      <td>154</td>\n",
       "      <td>1100</td>\n",
       "      <td>0</td>\n",
       "      <td>0.880496</td>\n",
       "    </tr>\n",
       "    <tr>\n",
       "      <th>2</th>\n",
       "      <td>0</td>\n",
       "      <td>0</td>\n",
       "      <td>1</td>\n",
       "      <td>0.0</td>\n",
       "      <td>0.000000</td>\n",
       "      <td>0.0</td>\n",
       "      <td>0.000000</td>\n",
       "      <td>5</td>\n",
       "      <td>5</td>\n",
       "      <td>0</td>\n",
       "      <td>0</td>\n",
       "      <td>4</td>\n",
       "      <td>12</td>\n",
       "      <td>1</td>\n",
       "      <td>0.515574</td>\n",
       "    </tr>\n",
       "    <tr>\n",
       "      <th>3</th>\n",
       "      <td>0</td>\n",
       "      <td>0</td>\n",
       "      <td>1</td>\n",
       "      <td>0.0</td>\n",
       "      <td>0.000000</td>\n",
       "      <td>0.0</td>\n",
       "      <td>0.000000</td>\n",
       "      <td>42</td>\n",
       "      <td>42</td>\n",
       "      <td>0</td>\n",
       "      <td>0</td>\n",
       "      <td>42</td>\n",
       "      <td>110</td>\n",
       "      <td>0</td>\n",
       "      <td>0.695332</td>\n",
       "    </tr>\n",
       "    <tr>\n",
       "      <th>4</th>\n",
       "      <td>0</td>\n",
       "      <td>0</td>\n",
       "      <td>2</td>\n",
       "      <td>0.0</td>\n",
       "      <td>29.791670</td>\n",
       "      <td>0.0</td>\n",
       "      <td>-106.188300</td>\n",
       "      <td>121</td>\n",
       "      <td>121</td>\n",
       "      <td>0</td>\n",
       "      <td>1</td>\n",
       "      <td>101</td>\n",
       "      <td>401</td>\n",
       "      <td>0</td>\n",
       "      <td>0.909616</td>\n",
       "    </tr>\n",
       "    <tr>\n",
       "      <th>5</th>\n",
       "      <td>0</td>\n",
       "      <td>0</td>\n",
       "      <td>2</td>\n",
       "      <td>0.0</td>\n",
       "      <td>21.333330</td>\n",
       "      <td>0.0</td>\n",
       "      <td>-108.323000</td>\n",
       "      <td>118</td>\n",
       "      <td>118</td>\n",
       "      <td>0</td>\n",
       "      <td>1</td>\n",
       "      <td>163</td>\n",
       "      <td>891</td>\n",
       "      <td>0</td>\n",
       "      <td>0.926176</td>\n",
       "    </tr>\n",
       "    <tr>\n",
       "      <th>6</th>\n",
       "      <td>0</td>\n",
       "      <td>0</td>\n",
       "      <td>1</td>\n",
       "      <td>0.0</td>\n",
       "      <td>0.000000</td>\n",
       "      <td>0.0</td>\n",
       "      <td>0.000000</td>\n",
       "      <td>19</td>\n",
       "      <td>19</td>\n",
       "      <td>0</td>\n",
       "      <td>0</td>\n",
       "      <td>16</td>\n",
       "      <td>48</td>\n",
       "      <td>0</td>\n",
       "      <td>0.564040</td>\n",
       "    </tr>\n",
       "    <tr>\n",
       "      <th>7</th>\n",
       "      <td>0</td>\n",
       "      <td>0</td>\n",
       "      <td>1</td>\n",
       "      <td>0.0</td>\n",
       "      <td>0.000000</td>\n",
       "      <td>0.0</td>\n",
       "      <td>0.000000</td>\n",
       "      <td>81</td>\n",
       "      <td>81</td>\n",
       "      <td>0</td>\n",
       "      <td>0</td>\n",
       "      <td>32</td>\n",
       "      <td>177</td>\n",
       "      <td>0</td>\n",
       "      <td>0.806455</td>\n",
       "    </tr>\n",
       "    <tr>\n",
       "      <th>8</th>\n",
       "      <td>0</td>\n",
       "      <td>0</td>\n",
       "      <td>1</td>\n",
       "      <td>0.0</td>\n",
       "      <td>0.000000</td>\n",
       "      <td>0.0</td>\n",
       "      <td>0.000000</td>\n",
       "      <td>36</td>\n",
       "      <td>36</td>\n",
       "      <td>0</td>\n",
       "      <td>0</td>\n",
       "      <td>76</td>\n",
       "      <td>163</td>\n",
       "      <td>0</td>\n",
       "      <td>0.720047</td>\n",
       "    </tr>\n",
       "    <tr>\n",
       "      <th>9</th>\n",
       "      <td>0</td>\n",
       "      <td>0</td>\n",
       "      <td>1</td>\n",
       "      <td>0.0</td>\n",
       "      <td>0.000000</td>\n",
       "      <td>0.0</td>\n",
       "      <td>0.000000</td>\n",
       "      <td>70</td>\n",
       "      <td>70</td>\n",
       "      <td>0</td>\n",
       "      <td>0</td>\n",
       "      <td>168</td>\n",
       "      <td>1317</td>\n",
       "      <td>0</td>\n",
       "      <td>0.884344</td>\n",
       "    </tr>\n",
       "    <tr>\n",
       "      <th>10</th>\n",
       "      <td>0</td>\n",
       "      <td>0</td>\n",
       "      <td>2</td>\n",
       "      <td>0.0</td>\n",
       "      <td>133.125000</td>\n",
       "      <td>0.0</td>\n",
       "      <td>50.474090</td>\n",
       "      <td>16</td>\n",
       "      <td>16</td>\n",
       "      <td>0</td>\n",
       "      <td>1</td>\n",
       "      <td>67</td>\n",
       "      <td>396</td>\n",
       "      <td>0</td>\n",
       "      <td>0.657057</td>\n",
       "    </tr>\n",
       "    <tr>\n",
       "      <th>11</th>\n",
       "      <td>0</td>\n",
       "      <td>0</td>\n",
       "      <td>2</td>\n",
       "      <td>0.0</td>\n",
       "      <td>15.750000</td>\n",
       "      <td>0.0</td>\n",
       "      <td>-32.308200</td>\n",
       "      <td>40</td>\n",
       "      <td>40</td>\n",
       "      <td>0</td>\n",
       "      <td>1</td>\n",
       "      <td>95</td>\n",
       "      <td>121</td>\n",
       "      <td>0</td>\n",
       "      <td>0.570651</td>\n",
       "    </tr>\n",
       "    <tr>\n",
       "      <th>12</th>\n",
       "      <td>0</td>\n",
       "      <td>0</td>\n",
       "      <td>1</td>\n",
       "      <td>0.0</td>\n",
       "      <td>0.000000</td>\n",
       "      <td>0.0</td>\n",
       "      <td>0.000000</td>\n",
       "      <td>152</td>\n",
       "      <td>152</td>\n",
       "      <td>0</td>\n",
       "      <td>0</td>\n",
       "      <td>93</td>\n",
       "      <td>435</td>\n",
       "      <td>0</td>\n",
       "      <td>0.954460</td>\n",
       "    </tr>\n",
       "    <tr>\n",
       "      <th>13</th>\n",
       "      <td>0</td>\n",
       "      <td>0</td>\n",
       "      <td>1</td>\n",
       "      <td>0.0</td>\n",
       "      <td>0.000000</td>\n",
       "      <td>0.0</td>\n",
       "      <td>0.000000</td>\n",
       "      <td>118</td>\n",
       "      <td>118</td>\n",
       "      <td>0</td>\n",
       "      <td>0</td>\n",
       "      <td>69</td>\n",
       "      <td>136</td>\n",
       "      <td>0</td>\n",
       "      <td>0.910709</td>\n",
       "    </tr>\n",
       "    <tr>\n",
       "      <th>14</th>\n",
       "      <td>0</td>\n",
       "      <td>0</td>\n",
       "      <td>1</td>\n",
       "      <td>0.0</td>\n",
       "      <td>0.000000</td>\n",
       "      <td>0.0</td>\n",
       "      <td>0.000000</td>\n",
       "      <td>66</td>\n",
       "      <td>66</td>\n",
       "      <td>0</td>\n",
       "      <td>0</td>\n",
       "      <td>87</td>\n",
       "      <td>585</td>\n",
       "      <td>0</td>\n",
       "      <td>0.816855</td>\n",
       "    </tr>\n",
       "    <tr>\n",
       "      <th>15</th>\n",
       "      <td>0</td>\n",
       "      <td>0</td>\n",
       "      <td>1</td>\n",
       "      <td>0.0</td>\n",
       "      <td>0.000000</td>\n",
       "      <td>0.0</td>\n",
       "      <td>0.000000</td>\n",
       "      <td>53</td>\n",
       "      <td>53</td>\n",
       "      <td>0</td>\n",
       "      <td>0</td>\n",
       "      <td>110</td>\n",
       "      <td>354</td>\n",
       "      <td>0</td>\n",
       "      <td>0.809803</td>\n",
       "    </tr>\n",
       "    <tr>\n",
       "      <th>16</th>\n",
       "      <td>0</td>\n",
       "      <td>0</td>\n",
       "      <td>2</td>\n",
       "      <td>0.0</td>\n",
       "      <td>0.375000</td>\n",
       "      <td>0.0</td>\n",
       "      <td>-1.345821</td>\n",
       "      <td>1</td>\n",
       "      <td>1</td>\n",
       "      <td>0</td>\n",
       "      <td>1</td>\n",
       "      <td>-1</td>\n",
       "      <td>359</td>\n",
       "      <td>1</td>\n",
       "      <td>0.808179</td>\n",
       "    </tr>\n",
       "    <tr>\n",
       "      <th>17</th>\n",
       "      <td>0</td>\n",
       "      <td>0</td>\n",
       "      <td>1</td>\n",
       "      <td>0.0</td>\n",
       "      <td>0.000000</td>\n",
       "      <td>0.0</td>\n",
       "      <td>0.000000</td>\n",
       "      <td>37</td>\n",
       "      <td>37</td>\n",
       "      <td>0</td>\n",
       "      <td>0</td>\n",
       "      <td>31</td>\n",
       "      <td>73</td>\n",
       "      <td>0</td>\n",
       "      <td>0.661097</td>\n",
       "    </tr>\n",
       "    <tr>\n",
       "      <th>18</th>\n",
       "      <td>0</td>\n",
       "      <td>0</td>\n",
       "      <td>1</td>\n",
       "      <td>0.0</td>\n",
       "      <td>0.000000</td>\n",
       "      <td>0.0</td>\n",
       "      <td>0.000000</td>\n",
       "      <td>1</td>\n",
       "      <td>1</td>\n",
       "      <td>0</td>\n",
       "      <td>0</td>\n",
       "      <td>120</td>\n",
       "      <td>152</td>\n",
       "      <td>0</td>\n",
       "      <td>0.653702</td>\n",
       "    </tr>\n",
       "    <tr>\n",
       "      <th>19</th>\n",
       "      <td>0</td>\n",
       "      <td>0</td>\n",
       "      <td>1</td>\n",
       "      <td>0.0</td>\n",
       "      <td>0.000000</td>\n",
       "      <td>0.0</td>\n",
       "      <td>0.000000</td>\n",
       "      <td>87</td>\n",
       "      <td>87</td>\n",
       "      <td>0</td>\n",
       "      <td>0</td>\n",
       "      <td>84</td>\n",
       "      <td>510</td>\n",
       "      <td>0</td>\n",
       "      <td>0.863767</td>\n",
       "    </tr>\n",
       "    <tr>\n",
       "      <th>20</th>\n",
       "      <td>0</td>\n",
       "      <td>0</td>\n",
       "      <td>1</td>\n",
       "      <td>0.0</td>\n",
       "      <td>0.000000</td>\n",
       "      <td>0.0</td>\n",
       "      <td>0.000000</td>\n",
       "      <td>161</td>\n",
       "      <td>161</td>\n",
       "      <td>0</td>\n",
       "      <td>0</td>\n",
       "      <td>79</td>\n",
       "      <td>1968</td>\n",
       "      <td>0</td>\n",
       "      <td>0.950025</td>\n",
       "    </tr>\n",
       "    <tr>\n",
       "      <th>21</th>\n",
       "      <td>0</td>\n",
       "      <td>0</td>\n",
       "      <td>1</td>\n",
       "      <td>0.0</td>\n",
       "      <td>0.000000</td>\n",
       "      <td>0.0</td>\n",
       "      <td>0.000000</td>\n",
       "      <td>172</td>\n",
       "      <td>172</td>\n",
       "      <td>0</td>\n",
       "      <td>0</td>\n",
       "      <td>173</td>\n",
       "      <td>1814</td>\n",
       "      <td>0</td>\n",
       "      <td>0.977797</td>\n",
       "    </tr>\n",
       "    <tr>\n",
       "      <th>22</th>\n",
       "      <td>0</td>\n",
       "      <td>0</td>\n",
       "      <td>1</td>\n",
       "      <td>0.0</td>\n",
       "      <td>0.000000</td>\n",
       "      <td>0.0</td>\n",
       "      <td>0.000000</td>\n",
       "      <td>182</td>\n",
       "      <td>182</td>\n",
       "      <td>0</td>\n",
       "      <td>0</td>\n",
       "      <td>177</td>\n",
       "      <td>614</td>\n",
       "      <td>0</td>\n",
       "      <td>0.983860</td>\n",
       "    </tr>\n",
       "    <tr>\n",
       "      <th>23</th>\n",
       "      <td>0</td>\n",
       "      <td>0</td>\n",
       "      <td>1</td>\n",
       "      <td>0.0</td>\n",
       "      <td>0.000000</td>\n",
       "      <td>0.0</td>\n",
       "      <td>0.000000</td>\n",
       "      <td>44</td>\n",
       "      <td>44</td>\n",
       "      <td>0</td>\n",
       "      <td>0</td>\n",
       "      <td>159</td>\n",
       "      <td>1684</td>\n",
       "      <td>0</td>\n",
       "      <td>0.815261</td>\n",
       "    </tr>\n",
       "    <tr>\n",
       "      <th>24</th>\n",
       "      <td>0</td>\n",
       "      <td>0</td>\n",
       "      <td>1</td>\n",
       "      <td>0.0</td>\n",
       "      <td>0.000000</td>\n",
       "      <td>0.0</td>\n",
       "      <td>0.000000</td>\n",
       "      <td>94</td>\n",
       "      <td>94</td>\n",
       "      <td>0</td>\n",
       "      <td>0</td>\n",
       "      <td>172</td>\n",
       "      <td>352</td>\n",
       "      <td>0</td>\n",
       "      <td>0.929411</td>\n",
       "    </tr>\n",
       "    <tr>\n",
       "      <th>25</th>\n",
       "      <td>0</td>\n",
       "      <td>0</td>\n",
       "      <td>1</td>\n",
       "      <td>0.0</td>\n",
       "      <td>0.000000</td>\n",
       "      <td>0.0</td>\n",
       "      <td>0.000000</td>\n",
       "      <td>13</td>\n",
       "      <td>13</td>\n",
       "      <td>0</td>\n",
       "      <td>0</td>\n",
       "      <td>25</td>\n",
       "      <td>96</td>\n",
       "      <td>0</td>\n",
       "      <td>0.552105</td>\n",
       "    </tr>\n",
       "    <tr>\n",
       "      <th>26</th>\n",
       "      <td>0</td>\n",
       "      <td>0</td>\n",
       "      <td>1</td>\n",
       "      <td>0.0</td>\n",
       "      <td>0.000000</td>\n",
       "      <td>0.0</td>\n",
       "      <td>0.000000</td>\n",
       "      <td>46</td>\n",
       "      <td>46</td>\n",
       "      <td>0</td>\n",
       "      <td>0</td>\n",
       "      <td>99</td>\n",
       "      <td>320</td>\n",
       "      <td>0</td>\n",
       "      <td>0.778467</td>\n",
       "    </tr>\n",
       "    <tr>\n",
       "      <th>27</th>\n",
       "      <td>0</td>\n",
       "      <td>0</td>\n",
       "      <td>1</td>\n",
       "      <td>0.0</td>\n",
       "      <td>0.000000</td>\n",
       "      <td>0.0</td>\n",
       "      <td>0.000000</td>\n",
       "      <td>138</td>\n",
       "      <td>138</td>\n",
       "      <td>0</td>\n",
       "      <td>0</td>\n",
       "      <td>175</td>\n",
       "      <td>1999</td>\n",
       "      <td>0</td>\n",
       "      <td>0.960445</td>\n",
       "    </tr>\n",
       "    <tr>\n",
       "      <th>28</th>\n",
       "      <td>0</td>\n",
       "      <td>0</td>\n",
       "      <td>1</td>\n",
       "      <td>0.0</td>\n",
       "      <td>0.000000</td>\n",
       "      <td>0.0</td>\n",
       "      <td>0.000000</td>\n",
       "      <td>33</td>\n",
       "      <td>33</td>\n",
       "      <td>0</td>\n",
       "      <td>0</td>\n",
       "      <td>110</td>\n",
       "      <td>1309</td>\n",
       "      <td>0</td>\n",
       "      <td>0.731576</td>\n",
       "    </tr>\n",
       "    <tr>\n",
       "      <th>29</th>\n",
       "      <td>0</td>\n",
       "      <td>0</td>\n",
       "      <td>1</td>\n",
       "      <td>0.0</td>\n",
       "      <td>0.000000</td>\n",
       "      <td>0.0</td>\n",
       "      <td>0.000000</td>\n",
       "      <td>36</td>\n",
       "      <td>36</td>\n",
       "      <td>0</td>\n",
       "      <td>0</td>\n",
       "      <td>174</td>\n",
       "      <td>1357</td>\n",
       "      <td>0</td>\n",
       "      <td>0.814707</td>\n",
       "    </tr>\n",
       "    <tr>\n",
       "      <th>30</th>\n",
       "      <td>0</td>\n",
       "      <td>0</td>\n",
       "      <td>1</td>\n",
       "      <td>0.0</td>\n",
       "      <td>0.000000</td>\n",
       "      <td>0.0</td>\n",
       "      <td>0.000000</td>\n",
       "      <td>11</td>\n",
       "      <td>11</td>\n",
       "      <td>0</td>\n",
       "      <td>0</td>\n",
       "      <td>44</td>\n",
       "      <td>126</td>\n",
       "      <td>0</td>\n",
       "      <td>0.574295</td>\n",
       "    </tr>\n",
       "    <tr>\n",
       "      <th>...</th>\n",
       "      <td>...</td>\n",
       "      <td>...</td>\n",
       "      <td>...</td>\n",
       "      <td>...</td>\n",
       "      <td>...</td>\n",
       "      <td>...</td>\n",
       "      <td>...</td>\n",
       "      <td>...</td>\n",
       "      <td>...</td>\n",
       "      <td>...</td>\n",
       "      <td>...</td>\n",
       "      <td>...</td>\n",
       "      <td>...</td>\n",
       "      <td>...</td>\n",
       "      <td>...</td>\n",
       "    </tr>\n",
       "    <tr>\n",
       "      <th>16346</th>\n",
       "      <td>0</td>\n",
       "      <td>0</td>\n",
       "      <td>1</td>\n",
       "      <td>0.0</td>\n",
       "      <td>0.000000</td>\n",
       "      <td>0.0</td>\n",
       "      <td>0.000000</td>\n",
       "      <td>138</td>\n",
       "      <td>138</td>\n",
       "      <td>0</td>\n",
       "      <td>0</td>\n",
       "      <td>167</td>\n",
       "      <td>1368</td>\n",
       "      <td>0</td>\n",
       "      <td>0.960887</td>\n",
       "    </tr>\n",
       "    <tr>\n",
       "      <th>16347</th>\n",
       "      <td>0</td>\n",
       "      <td>0</td>\n",
       "      <td>3</td>\n",
       "      <td>0.0</td>\n",
       "      <td>58.500000</td>\n",
       "      <td>0.0</td>\n",
       "      <td>-20.647070</td>\n",
       "      <td>59</td>\n",
       "      <td>59</td>\n",
       "      <td>0</td>\n",
       "      <td>1</td>\n",
       "      <td>17</td>\n",
       "      <td>78</td>\n",
       "      <td>0</td>\n",
       "      <td>0.612069</td>\n",
       "    </tr>\n",
       "    <tr>\n",
       "      <th>16348</th>\n",
       "      <td>0</td>\n",
       "      <td>0</td>\n",
       "      <td>2</td>\n",
       "      <td>0.0</td>\n",
       "      <td>0.125000</td>\n",
       "      <td>0.0</td>\n",
       "      <td>-59.734600</td>\n",
       "      <td>59</td>\n",
       "      <td>59</td>\n",
       "      <td>0</td>\n",
       "      <td>1</td>\n",
       "      <td>0</td>\n",
       "      <td>64</td>\n",
       "      <td>1</td>\n",
       "      <td>0.514354</td>\n",
       "    </tr>\n",
       "    <tr>\n",
       "      <th>16349</th>\n",
       "      <td>0</td>\n",
       "      <td>0</td>\n",
       "      <td>2</td>\n",
       "      <td>0.0</td>\n",
       "      <td>28.583330</td>\n",
       "      <td>0.0</td>\n",
       "      <td>-28.896040</td>\n",
       "      <td>43</td>\n",
       "      <td>43</td>\n",
       "      <td>0</td>\n",
       "      <td>1</td>\n",
       "      <td>8</td>\n",
       "      <td>49</td>\n",
       "      <td>1</td>\n",
       "      <td>0.524985</td>\n",
       "    </tr>\n",
       "    <tr>\n",
       "      <th>16350</th>\n",
       "      <td>0</td>\n",
       "      <td>0</td>\n",
       "      <td>2</td>\n",
       "      <td>0.0</td>\n",
       "      <td>105.000000</td>\n",
       "      <td>0.0</td>\n",
       "      <td>51.510890</td>\n",
       "      <td>0</td>\n",
       "      <td>0</td>\n",
       "      <td>0</td>\n",
       "      <td>1</td>\n",
       "      <td>115</td>\n",
       "      <td>190</td>\n",
       "      <td>0</td>\n",
       "      <td>0.588157</td>\n",
       "    </tr>\n",
       "    <tr>\n",
       "      <th>16351</th>\n",
       "      <td>1</td>\n",
       "      <td>1</td>\n",
       "      <td>10</td>\n",
       "      <td>0.0</td>\n",
       "      <td>15.541670</td>\n",
       "      <td>0.0</td>\n",
       "      <td>-26.083300</td>\n",
       "      <td>40</td>\n",
       "      <td>40</td>\n",
       "      <td>0</td>\n",
       "      <td>1</td>\n",
       "      <td>153</td>\n",
       "      <td>5536</td>\n",
       "      <td>1</td>\n",
       "      <td>0.893989</td>\n",
       "    </tr>\n",
       "    <tr>\n",
       "      <th>16352</th>\n",
       "      <td>0</td>\n",
       "      <td>0</td>\n",
       "      <td>1</td>\n",
       "      <td>0.0</td>\n",
       "      <td>0.000000</td>\n",
       "      <td>0.0</td>\n",
       "      <td>0.000000</td>\n",
       "      <td>179</td>\n",
       "      <td>179</td>\n",
       "      <td>0</td>\n",
       "      <td>0</td>\n",
       "      <td>37</td>\n",
       "      <td>106</td>\n",
       "      <td>0</td>\n",
       "      <td>0.959599</td>\n",
       "    </tr>\n",
       "    <tr>\n",
       "      <th>16353</th>\n",
       "      <td>0</td>\n",
       "      <td>0</td>\n",
       "      <td>1</td>\n",
       "      <td>0.0</td>\n",
       "      <td>0.000000</td>\n",
       "      <td>0.0</td>\n",
       "      <td>0.000000</td>\n",
       "      <td>104</td>\n",
       "      <td>104</td>\n",
       "      <td>0</td>\n",
       "      <td>0</td>\n",
       "      <td>83</td>\n",
       "      <td>207</td>\n",
       "      <td>0</td>\n",
       "      <td>0.897200</td>\n",
       "    </tr>\n",
       "    <tr>\n",
       "      <th>16354</th>\n",
       "      <td>0</td>\n",
       "      <td>0</td>\n",
       "      <td>2</td>\n",
       "      <td>0.0</td>\n",
       "      <td>76.625000</td>\n",
       "      <td>0.0</td>\n",
       "      <td>-24.256930</td>\n",
       "      <td>62</td>\n",
       "      <td>62</td>\n",
       "      <td>0</td>\n",
       "      <td>1</td>\n",
       "      <td>160</td>\n",
       "      <td>677</td>\n",
       "      <td>0</td>\n",
       "      <td>0.854201</td>\n",
       "    </tr>\n",
       "    <tr>\n",
       "      <th>16355</th>\n",
       "      <td>0</td>\n",
       "      <td>0</td>\n",
       "      <td>2</td>\n",
       "      <td>0.0</td>\n",
       "      <td>132.875000</td>\n",
       "      <td>0.0</td>\n",
       "      <td>26.310090</td>\n",
       "      <td>40</td>\n",
       "      <td>40</td>\n",
       "      <td>0</td>\n",
       "      <td>1</td>\n",
       "      <td>87</td>\n",
       "      <td>27580</td>\n",
       "      <td>1</td>\n",
       "      <td>0.815562</td>\n",
       "    </tr>\n",
       "    <tr>\n",
       "      <th>16356</th>\n",
       "      <td>0</td>\n",
       "      <td>0</td>\n",
       "      <td>1</td>\n",
       "      <td>0.0</td>\n",
       "      <td>0.000000</td>\n",
       "      <td>0.0</td>\n",
       "      <td>0.000000</td>\n",
       "      <td>96</td>\n",
       "      <td>96</td>\n",
       "      <td>0</td>\n",
       "      <td>0</td>\n",
       "      <td>76</td>\n",
       "      <td>854</td>\n",
       "      <td>0</td>\n",
       "      <td>0.871395</td>\n",
       "    </tr>\n",
       "    <tr>\n",
       "      <th>16357</th>\n",
       "      <td>0</td>\n",
       "      <td>0</td>\n",
       "      <td>1</td>\n",
       "      <td>0.0</td>\n",
       "      <td>0.000000</td>\n",
       "      <td>0.0</td>\n",
       "      <td>0.000000</td>\n",
       "      <td>4</td>\n",
       "      <td>4</td>\n",
       "      <td>0</td>\n",
       "      <td>0</td>\n",
       "      <td>2</td>\n",
       "      <td>30</td>\n",
       "      <td>1</td>\n",
       "      <td>0.523733</td>\n",
       "    </tr>\n",
       "    <tr>\n",
       "      <th>16358</th>\n",
       "      <td>0</td>\n",
       "      <td>0</td>\n",
       "      <td>1</td>\n",
       "      <td>0.0</td>\n",
       "      <td>0.000000</td>\n",
       "      <td>0.0</td>\n",
       "      <td>0.000000</td>\n",
       "      <td>159</td>\n",
       "      <td>159</td>\n",
       "      <td>0</td>\n",
       "      <td>0</td>\n",
       "      <td>33</td>\n",
       "      <td>307</td>\n",
       "      <td>0</td>\n",
       "      <td>0.941199</td>\n",
       "    </tr>\n",
       "    <tr>\n",
       "      <th>16359</th>\n",
       "      <td>0</td>\n",
       "      <td>0</td>\n",
       "      <td>2</td>\n",
       "      <td>0.0</td>\n",
       "      <td>0.875000</td>\n",
       "      <td>0.0</td>\n",
       "      <td>-3.375742</td>\n",
       "      <td>3</td>\n",
       "      <td>3</td>\n",
       "      <td>0</td>\n",
       "      <td>1</td>\n",
       "      <td>8</td>\n",
       "      <td>36</td>\n",
       "      <td>1</td>\n",
       "      <td>0.784344</td>\n",
       "    </tr>\n",
       "    <tr>\n",
       "      <th>16360</th>\n",
       "      <td>0</td>\n",
       "      <td>0</td>\n",
       "      <td>1</td>\n",
       "      <td>0.0</td>\n",
       "      <td>0.000000</td>\n",
       "      <td>0.0</td>\n",
       "      <td>0.000000</td>\n",
       "      <td>164</td>\n",
       "      <td>164</td>\n",
       "      <td>0</td>\n",
       "      <td>0</td>\n",
       "      <td>166</td>\n",
       "      <td>1089</td>\n",
       "      <td>0</td>\n",
       "      <td>0.975266</td>\n",
       "    </tr>\n",
       "    <tr>\n",
       "      <th>16361</th>\n",
       "      <td>0</td>\n",
       "      <td>0</td>\n",
       "      <td>1</td>\n",
       "      <td>0.0</td>\n",
       "      <td>0.000000</td>\n",
       "      <td>0.0</td>\n",
       "      <td>0.000000</td>\n",
       "      <td>1</td>\n",
       "      <td>1</td>\n",
       "      <td>0</td>\n",
       "      <td>0</td>\n",
       "      <td>163</td>\n",
       "      <td>1417</td>\n",
       "      <td>0</td>\n",
       "      <td>0.688601</td>\n",
       "    </tr>\n",
       "    <tr>\n",
       "      <th>16362</th>\n",
       "      <td>0</td>\n",
       "      <td>0</td>\n",
       "      <td>3</td>\n",
       "      <td>0.0</td>\n",
       "      <td>11.125000</td>\n",
       "      <td>0.0</td>\n",
       "      <td>2.777650</td>\n",
       "      <td>4</td>\n",
       "      <td>4</td>\n",
       "      <td>0</td>\n",
       "      <td>1</td>\n",
       "      <td>166</td>\n",
       "      <td>717</td>\n",
       "      <td>1</td>\n",
       "      <td>0.573272</td>\n",
       "    </tr>\n",
       "    <tr>\n",
       "      <th>16363</th>\n",
       "      <td>0</td>\n",
       "      <td>0</td>\n",
       "      <td>1</td>\n",
       "      <td>0.0</td>\n",
       "      <td>0.000000</td>\n",
       "      <td>0.0</td>\n",
       "      <td>0.000000</td>\n",
       "      <td>58</td>\n",
       "      <td>58</td>\n",
       "      <td>0</td>\n",
       "      <td>0</td>\n",
       "      <td>60</td>\n",
       "      <td>205</td>\n",
       "      <td>0</td>\n",
       "      <td>0.771012</td>\n",
       "    </tr>\n",
       "    <tr>\n",
       "      <th>16364</th>\n",
       "      <td>0</td>\n",
       "      <td>0</td>\n",
       "      <td>1</td>\n",
       "      <td>0.0</td>\n",
       "      <td>0.000000</td>\n",
       "      <td>0.0</td>\n",
       "      <td>0.000000</td>\n",
       "      <td>101</td>\n",
       "      <td>101</td>\n",
       "      <td>0</td>\n",
       "      <td>0</td>\n",
       "      <td>54</td>\n",
       "      <td>401</td>\n",
       "      <td>0</td>\n",
       "      <td>0.869768</td>\n",
       "    </tr>\n",
       "    <tr>\n",
       "      <th>16365</th>\n",
       "      <td>0</td>\n",
       "      <td>0</td>\n",
       "      <td>1</td>\n",
       "      <td>0.0</td>\n",
       "      <td>0.000000</td>\n",
       "      <td>0.0</td>\n",
       "      <td>0.000000</td>\n",
       "      <td>0</td>\n",
       "      <td>0</td>\n",
       "      <td>0</td>\n",
       "      <td>0</td>\n",
       "      <td>19</td>\n",
       "      <td>154</td>\n",
       "      <td>1</td>\n",
       "      <td>0.515674</td>\n",
       "    </tr>\n",
       "    <tr>\n",
       "      <th>16366</th>\n",
       "      <td>0</td>\n",
       "      <td>0</td>\n",
       "      <td>1</td>\n",
       "      <td>0.0</td>\n",
       "      <td>0.000000</td>\n",
       "      <td>0.0</td>\n",
       "      <td>0.000000</td>\n",
       "      <td>71</td>\n",
       "      <td>71</td>\n",
       "      <td>0</td>\n",
       "      <td>0</td>\n",
       "      <td>40</td>\n",
       "      <td>94</td>\n",
       "      <td>0</td>\n",
       "      <td>0.788558</td>\n",
       "    </tr>\n",
       "    <tr>\n",
       "      <th>16367</th>\n",
       "      <td>0</td>\n",
       "      <td>0</td>\n",
       "      <td>1</td>\n",
       "      <td>0.0</td>\n",
       "      <td>0.000000</td>\n",
       "      <td>0.0</td>\n",
       "      <td>0.000000</td>\n",
       "      <td>85</td>\n",
       "      <td>85</td>\n",
       "      <td>0</td>\n",
       "      <td>0</td>\n",
       "      <td>169</td>\n",
       "      <td>276</td>\n",
       "      <td>0</td>\n",
       "      <td>0.917533</td>\n",
       "    </tr>\n",
       "    <tr>\n",
       "      <th>16368</th>\n",
       "      <td>0</td>\n",
       "      <td>0</td>\n",
       "      <td>1</td>\n",
       "      <td>0.0</td>\n",
       "      <td>0.000000</td>\n",
       "      <td>0.0</td>\n",
       "      <td>0.000000</td>\n",
       "      <td>10</td>\n",
       "      <td>10</td>\n",
       "      <td>0</td>\n",
       "      <td>0</td>\n",
       "      <td>109</td>\n",
       "      <td>1131</td>\n",
       "      <td>0</td>\n",
       "      <td>0.649205</td>\n",
       "    </tr>\n",
       "    <tr>\n",
       "      <th>16369</th>\n",
       "      <td>0</td>\n",
       "      <td>0</td>\n",
       "      <td>1</td>\n",
       "      <td>0.0</td>\n",
       "      <td>0.000000</td>\n",
       "      <td>0.0</td>\n",
       "      <td>0.000000</td>\n",
       "      <td>70</td>\n",
       "      <td>70</td>\n",
       "      <td>0</td>\n",
       "      <td>0</td>\n",
       "      <td>171</td>\n",
       "      <td>506</td>\n",
       "      <td>0</td>\n",
       "      <td>0.894612</td>\n",
       "    </tr>\n",
       "    <tr>\n",
       "      <th>16370</th>\n",
       "      <td>0</td>\n",
       "      <td>0</td>\n",
       "      <td>2</td>\n",
       "      <td>0.0</td>\n",
       "      <td>8.541667</td>\n",
       "      <td>0.0</td>\n",
       "      <td>-14.237070</td>\n",
       "      <td>18</td>\n",
       "      <td>18</td>\n",
       "      <td>0</td>\n",
       "      <td>1</td>\n",
       "      <td>-1</td>\n",
       "      <td>3</td>\n",
       "      <td>1</td>\n",
       "      <td>0.716680</td>\n",
       "    </tr>\n",
       "    <tr>\n",
       "      <th>16371</th>\n",
       "      <td>0</td>\n",
       "      <td>0</td>\n",
       "      <td>1</td>\n",
       "      <td>0.0</td>\n",
       "      <td>0.000000</td>\n",
       "      <td>0.0</td>\n",
       "      <td>0.000000</td>\n",
       "      <td>71</td>\n",
       "      <td>71</td>\n",
       "      <td>0</td>\n",
       "      <td>0</td>\n",
       "      <td>63</td>\n",
       "      <td>254</td>\n",
       "      <td>0</td>\n",
       "      <td>0.810704</td>\n",
       "    </tr>\n",
       "    <tr>\n",
       "      <th>16372</th>\n",
       "      <td>0</td>\n",
       "      <td>0</td>\n",
       "      <td>1</td>\n",
       "      <td>0.0</td>\n",
       "      <td>0.000000</td>\n",
       "      <td>0.0</td>\n",
       "      <td>0.000000</td>\n",
       "      <td>134</td>\n",
       "      <td>134</td>\n",
       "      <td>0</td>\n",
       "      <td>0</td>\n",
       "      <td>174</td>\n",
       "      <td>499</td>\n",
       "      <td>0</td>\n",
       "      <td>0.963368</td>\n",
       "    </tr>\n",
       "    <tr>\n",
       "      <th>16373</th>\n",
       "      <td>0</td>\n",
       "      <td>0</td>\n",
       "      <td>10</td>\n",
       "      <td>0.0</td>\n",
       "      <td>7.101852</td>\n",
       "      <td>0.0</td>\n",
       "      <td>3.137754</td>\n",
       "      <td>3</td>\n",
       "      <td>3</td>\n",
       "      <td>0</td>\n",
       "      <td>1</td>\n",
       "      <td>103</td>\n",
       "      <td>255</td>\n",
       "      <td>1</td>\n",
       "      <td>0.818000</td>\n",
       "    </tr>\n",
       "    <tr>\n",
       "      <th>16374</th>\n",
       "      <td>0</td>\n",
       "      <td>0</td>\n",
       "      <td>1</td>\n",
       "      <td>0.0</td>\n",
       "      <td>0.000000</td>\n",
       "      <td>0.0</td>\n",
       "      <td>0.000000</td>\n",
       "      <td>109</td>\n",
       "      <td>109</td>\n",
       "      <td>0</td>\n",
       "      <td>0</td>\n",
       "      <td>143</td>\n",
       "      <td>808</td>\n",
       "      <td>0</td>\n",
       "      <td>0.930539</td>\n",
       "    </tr>\n",
       "    <tr>\n",
       "      <th>16375</th>\n",
       "      <td>0</td>\n",
       "      <td>0</td>\n",
       "      <td>1</td>\n",
       "      <td>0.0</td>\n",
       "      <td>0.000000</td>\n",
       "      <td>0.0</td>\n",
       "      <td>0.000000</td>\n",
       "      <td>69</td>\n",
       "      <td>69</td>\n",
       "      <td>0</td>\n",
       "      <td>0</td>\n",
       "      <td>95</td>\n",
       "      <td>187</td>\n",
       "      <td>0</td>\n",
       "      <td>0.837872</td>\n",
       "    </tr>\n",
       "  </tbody>\n",
       "</table>\n",
       "<p>16375 rows × 15 columns</p>\n",
       "</div>"
      ],
      "text/plain": [
       "       isbuyer  buy_freq  visit_freq  buy_interval  sv_interval  \\\n",
       "1            0         0           1           0.0     0.000000   \n",
       "2            0         0           1           0.0     0.000000   \n",
       "3            0         0           1           0.0     0.000000   \n",
       "4            0         0           2           0.0    29.791670   \n",
       "5            0         0           2           0.0    21.333330   \n",
       "6            0         0           1           0.0     0.000000   \n",
       "7            0         0           1           0.0     0.000000   \n",
       "8            0         0           1           0.0     0.000000   \n",
       "9            0         0           1           0.0     0.000000   \n",
       "10           0         0           2           0.0   133.125000   \n",
       "11           0         0           2           0.0    15.750000   \n",
       "12           0         0           1           0.0     0.000000   \n",
       "13           0         0           1           0.0     0.000000   \n",
       "14           0         0           1           0.0     0.000000   \n",
       "15           0         0           1           0.0     0.000000   \n",
       "16           0         0           2           0.0     0.375000   \n",
       "17           0         0           1           0.0     0.000000   \n",
       "18           0         0           1           0.0     0.000000   \n",
       "19           0         0           1           0.0     0.000000   \n",
       "20           0         0           1           0.0     0.000000   \n",
       "21           0         0           1           0.0     0.000000   \n",
       "22           0         0           1           0.0     0.000000   \n",
       "23           0         0           1           0.0     0.000000   \n",
       "24           0         0           1           0.0     0.000000   \n",
       "25           0         0           1           0.0     0.000000   \n",
       "26           0         0           1           0.0     0.000000   \n",
       "27           0         0           1           0.0     0.000000   \n",
       "28           0         0           1           0.0     0.000000   \n",
       "29           0         0           1           0.0     0.000000   \n",
       "30           0         0           1           0.0     0.000000   \n",
       "...        ...       ...         ...           ...          ...   \n",
       "16346        0         0           1           0.0     0.000000   \n",
       "16347        0         0           3           0.0    58.500000   \n",
       "16348        0         0           2           0.0     0.125000   \n",
       "16349        0         0           2           0.0    28.583330   \n",
       "16350        0         0           2           0.0   105.000000   \n",
       "16351        1         1          10           0.0    15.541670   \n",
       "16352        0         0           1           0.0     0.000000   \n",
       "16353        0         0           1           0.0     0.000000   \n",
       "16354        0         0           2           0.0    76.625000   \n",
       "16355        0         0           2           0.0   132.875000   \n",
       "16356        0         0           1           0.0     0.000000   \n",
       "16357        0         0           1           0.0     0.000000   \n",
       "16358        0         0           1           0.0     0.000000   \n",
       "16359        0         0           2           0.0     0.875000   \n",
       "16360        0         0           1           0.0     0.000000   \n",
       "16361        0         0           1           0.0     0.000000   \n",
       "16362        0         0           3           0.0    11.125000   \n",
       "16363        0         0           1           0.0     0.000000   \n",
       "16364        0         0           1           0.0     0.000000   \n",
       "16365        0         0           1           0.0     0.000000   \n",
       "16366        0         0           1           0.0     0.000000   \n",
       "16367        0         0           1           0.0     0.000000   \n",
       "16368        0         0           1           0.0     0.000000   \n",
       "16369        0         0           1           0.0     0.000000   \n",
       "16370        0         0           2           0.0     8.541667   \n",
       "16371        0         0           1           0.0     0.000000   \n",
       "16372        0         0           1           0.0     0.000000   \n",
       "16373        0         0          10           0.0     7.101852   \n",
       "16374        0         0           1           0.0     0.000000   \n",
       "16375        0         0           1           0.0     0.000000   \n",
       "\n",
       "       expected_time_buy  expected_time_visit  last_buy  last_visit  \\\n",
       "1                    0.0             0.000000        72          72   \n",
       "2                    0.0             0.000000         5           5   \n",
       "3                    0.0             0.000000        42          42   \n",
       "4                    0.0          -106.188300       121         121   \n",
       "5                    0.0          -108.323000       118         118   \n",
       "6                    0.0             0.000000        19          19   \n",
       "7                    0.0             0.000000        81          81   \n",
       "8                    0.0             0.000000        36          36   \n",
       "9                    0.0             0.000000        70          70   \n",
       "10                   0.0            50.474090        16          16   \n",
       "11                   0.0           -32.308200        40          40   \n",
       "12                   0.0             0.000000       152         152   \n",
       "13                   0.0             0.000000       118         118   \n",
       "14                   0.0             0.000000        66          66   \n",
       "15                   0.0             0.000000        53          53   \n",
       "16                   0.0            -1.345821         1           1   \n",
       "17                   0.0             0.000000        37          37   \n",
       "18                   0.0             0.000000         1           1   \n",
       "19                   0.0             0.000000        87          87   \n",
       "20                   0.0             0.000000       161         161   \n",
       "21                   0.0             0.000000       172         172   \n",
       "22                   0.0             0.000000       182         182   \n",
       "23                   0.0             0.000000        44          44   \n",
       "24                   0.0             0.000000        94          94   \n",
       "25                   0.0             0.000000        13          13   \n",
       "26                   0.0             0.000000        46          46   \n",
       "27                   0.0             0.000000       138         138   \n",
       "28                   0.0             0.000000        33          33   \n",
       "29                   0.0             0.000000        36          36   \n",
       "30                   0.0             0.000000        11          11   \n",
       "...                  ...                  ...       ...         ...   \n",
       "16346                0.0             0.000000       138         138   \n",
       "16347                0.0           -20.647070        59          59   \n",
       "16348                0.0           -59.734600        59          59   \n",
       "16349                0.0           -28.896040        43          43   \n",
       "16350                0.0            51.510890         0           0   \n",
       "16351                0.0           -26.083300        40          40   \n",
       "16352                0.0             0.000000       179         179   \n",
       "16353                0.0             0.000000       104         104   \n",
       "16354                0.0           -24.256930        62          62   \n",
       "16355                0.0            26.310090        40          40   \n",
       "16356                0.0             0.000000        96          96   \n",
       "16357                0.0             0.000000         4           4   \n",
       "16358                0.0             0.000000       159         159   \n",
       "16359                0.0            -3.375742         3           3   \n",
       "16360                0.0             0.000000       164         164   \n",
       "16361                0.0             0.000000         1           1   \n",
       "16362                0.0             2.777650         4           4   \n",
       "16363                0.0             0.000000        58          58   \n",
       "16364                0.0             0.000000       101         101   \n",
       "16365                0.0             0.000000         0           0   \n",
       "16366                0.0             0.000000        71          71   \n",
       "16367                0.0             0.000000        85          85   \n",
       "16368                0.0             0.000000        10          10   \n",
       "16369                0.0             0.000000        70          70   \n",
       "16370                0.0           -14.237070        18          18   \n",
       "16371                0.0             0.000000        71          71   \n",
       "16372                0.0             0.000000       134         134   \n",
       "16373                0.0             3.137754         3           3   \n",
       "16374                0.0             0.000000       109         109   \n",
       "16375                0.0             0.000000        69          69   \n",
       "\n",
       "       multiple_buy  multiple_visit  uniq_urls  num_checkins  y_buy  \\\n",
       "1                 0               0        154          1100      0   \n",
       "2                 0               0          4            12      1   \n",
       "3                 0               0         42           110      0   \n",
       "4                 0               1        101           401      0   \n",
       "5                 0               1        163           891      0   \n",
       "6                 0               0         16            48      0   \n",
       "7                 0               0         32           177      0   \n",
       "8                 0               0         76           163      0   \n",
       "9                 0               0        168          1317      0   \n",
       "10                0               1         67           396      0   \n",
       "11                0               1         95           121      0   \n",
       "12                0               0         93           435      0   \n",
       "13                0               0         69           136      0   \n",
       "14                0               0         87           585      0   \n",
       "15                0               0        110           354      0   \n",
       "16                0               1         -1           359      1   \n",
       "17                0               0         31            73      0   \n",
       "18                0               0        120           152      0   \n",
       "19                0               0         84           510      0   \n",
       "20                0               0         79          1968      0   \n",
       "21                0               0        173          1814      0   \n",
       "22                0               0        177           614      0   \n",
       "23                0               0        159          1684      0   \n",
       "24                0               0        172           352      0   \n",
       "25                0               0         25            96      0   \n",
       "26                0               0         99           320      0   \n",
       "27                0               0        175          1999      0   \n",
       "28                0               0        110          1309      0   \n",
       "29                0               0        174          1357      0   \n",
       "30                0               0         44           126      0   \n",
       "...             ...             ...        ...           ...    ...   \n",
       "16346             0               0        167          1368      0   \n",
       "16347             0               1         17            78      0   \n",
       "16348             0               1          0            64      1   \n",
       "16349             0               1          8            49      1   \n",
       "16350             0               1        115           190      0   \n",
       "16351             0               1        153          5536      1   \n",
       "16352             0               0         37           106      0   \n",
       "16353             0               0         83           207      0   \n",
       "16354             0               1        160           677      0   \n",
       "16355             0               1         87         27580      1   \n",
       "16356             0               0         76           854      0   \n",
       "16357             0               0          2            30      1   \n",
       "16358             0               0         33           307      0   \n",
       "16359             0               1          8            36      1   \n",
       "16360             0               0        166          1089      0   \n",
       "16361             0               0        163          1417      0   \n",
       "16362             0               1        166           717      1   \n",
       "16363             0               0         60           205      0   \n",
       "16364             0               0         54           401      0   \n",
       "16365             0               0         19           154      1   \n",
       "16366             0               0         40            94      0   \n",
       "16367             0               0        169           276      0   \n",
       "16368             0               0        109          1131      0   \n",
       "16369             0               0        171           506      0   \n",
       "16370             0               1         -1             3      1   \n",
       "16371             0               0         63           254      0   \n",
       "16372             0               0        174           499      0   \n",
       "16373             0               1        103           255      1   \n",
       "16374             0               0        143           808      0   \n",
       "16375             0               0         95           187      0   \n",
       "\n",
       "       y_buy_prob  \n",
       "1        0.880496  \n",
       "2        0.515574  \n",
       "3        0.695332  \n",
       "4        0.909616  \n",
       "5        0.926176  \n",
       "6        0.564040  \n",
       "7        0.806455  \n",
       "8        0.720047  \n",
       "9        0.884344  \n",
       "10       0.657057  \n",
       "11       0.570651  \n",
       "12       0.954460  \n",
       "13       0.910709  \n",
       "14       0.816855  \n",
       "15       0.809803  \n",
       "16       0.808179  \n",
       "17       0.661097  \n",
       "18       0.653702  \n",
       "19       0.863767  \n",
       "20       0.950025  \n",
       "21       0.977797  \n",
       "22       0.983860  \n",
       "23       0.815261  \n",
       "24       0.929411  \n",
       "25       0.552105  \n",
       "26       0.778467  \n",
       "27       0.960445  \n",
       "28       0.731576  \n",
       "29       0.814707  \n",
       "30       0.574295  \n",
       "...           ...  \n",
       "16346    0.960887  \n",
       "16347    0.612069  \n",
       "16348    0.514354  \n",
       "16349    0.524985  \n",
       "16350    0.588157  \n",
       "16351    0.893989  \n",
       "16352    0.959599  \n",
       "16353    0.897200  \n",
       "16354    0.854201  \n",
       "16355    0.815562  \n",
       "16356    0.871395  \n",
       "16357    0.523733  \n",
       "16358    0.941199  \n",
       "16359    0.784344  \n",
       "16360    0.975266  \n",
       "16361    0.688601  \n",
       "16362    0.573272  \n",
       "16363    0.771012  \n",
       "16364    0.869768  \n",
       "16365    0.515674  \n",
       "16366    0.788558  \n",
       "16367    0.917533  \n",
       "16368    0.649205  \n",
       "16369    0.894612  \n",
       "16370    0.716680  \n",
       "16371    0.810704  \n",
       "16372    0.963368  \n",
       "16373    0.818000  \n",
       "16374    0.930539  \n",
       "16375    0.837872  \n",
       "\n",
       "[16375 rows x 15 columns]"
      ]
     },
     "execution_count": 357,
     "metadata": {},
     "output_type": "execute_result"
    }
   ],
   "source": [
    "#check the result\n",
    "data_pred"
   ]
  },
  {
   "cell_type": "code",
   "execution_count": 361,
   "metadata": {},
   "outputs": [],
   "source": [
    "#save the result to csv\n",
    "data_pred.to_csv('data_pred.csv')"
   ]
  }
 ],
 "metadata": {
  "kernelspec": {
   "display_name": "Python 3",
   "language": "python",
   "name": "python3"
  },
  "language_info": {
   "codemirror_mode": {
    "name": "ipython",
    "version": 3
   },
   "file_extension": ".py",
   "mimetype": "text/x-python",
   "name": "python",
   "nbconvert_exporter": "python",
   "pygments_lexer": "ipython3",
   "version": "3.6.8"
  }
 },
 "nbformat": 4,
 "nbformat_minor": 2
}
